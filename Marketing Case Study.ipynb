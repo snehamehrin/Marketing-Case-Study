{
 "cells": [
  {
   "cell_type": "markdown",
   "metadata": {},
   "source": [
    "# Case Study Context\n",
    "\n",
    "* An online travel agency wants to improve the hotel-booking experience by making it mobile-friendly and as\n",
    "easy as chatting with a friend. \n",
    "\n",
    "* Some of the ways that they advertise the hotel rooms is through common hotel booking sites that aggregate rates from many OTA’s. \n",
    "* They are able to determine how much they would  like to spend on each click. \n",
    "* They can set a different spend per click for each itinerary (itinerary is the unique inputs of the search: hotel / length of stay / checkin date / etc...).\n",
    "* If they spend more, they will be more likely to be shown and will appear higher in the ranking. \n",
    "* If they spend less, they will be shown lower in the ranking but if our bid is too low, they may not be shown\n",
    "at all.\n",
    "\n",
    "# Key Deliverables of the Case Study\n",
    "\n",
    "* Identify key trends from booking and spending data\n",
    "* How can the OTA agency improve?\n",
    "* What are some deep insights based on the data"
   ]
  },
  {
   "cell_type": "code",
   "execution_count": 2,
   "metadata": {},
   "outputs": [
    {
     "data": {
      "text/plain": [
       "'/Users/snehamehrin'"
      ]
     },
     "execution_count": 2,
     "metadata": {},
     "output_type": "execute_result"
    }
   ],
   "source": [
    "#Importing Libraries\n",
    "import pandas as pd\n",
    "import matplotlib.pyplot as plt\n",
    "import numpy as np\n",
    "import datetime as dt\n",
    "import os\n",
    "import seaborn as sns\n",
    "os.getcwd()\n",
    "from IPython.core.interactiveshell import InteractiveShell\n",
    "InteractiveShell.ast_node_interactivity = \"all\"\n",
    "os.chdir('/Users/snehamehrin/Desktop/Project/data-analysis-project/data/raw')\n",
    "import warnings\n",
    "warnings.filterwarnings('ignore')\n",
    "class color:\n",
    "   PURPLE = '\\033[95m'\n",
    "   CYAN = '\\033[96m'\n",
    "   DARKCYAN = '\\033[36m'\n",
    "   BLUE = '\\033[94m'\n",
    "   GREEN = '\\033[92m'\n",
    "   YELLOW = '\\033[93m'\n",
    "   RED = '\\033[91m'\n",
    "   BOLD = '\\033[1m'\n",
    "   UNDERLINE = '\\033[4m'\n",
    "   END = '\\033[0m'"
   ]
  },
  {
   "cell_type": "code",
   "execution_count": 3,
   "metadata": {
    "scrolled": true
   },
   "outputs": [
    {
     "name": "stdout",
     "output_type": "stream",
     "text": [
      "\u001b[1m\u001b[93mFirst 5 rows of spending data \u001b[0m\n"
     ]
    },
    {
     "data": {
      "text/html": [
       "<div>\n",
       "<style scoped>\n",
       "    .dataframe tbody tr th:only-of-type {\n",
       "        vertical-align: middle;\n",
       "    }\n",
       "\n",
       "    .dataframe tbody tr th {\n",
       "        vertical-align: top;\n",
       "    }\n",
       "\n",
       "    .dataframe thead th {\n",
       "        text-align: right;\n",
       "    }\n",
       "</style>\n",
       "<table border=\"1\" class=\"dataframe\">\n",
       "  <thead>\n",
       "    <tr style=\"text-align: right;\">\n",
       "      <th></th>\n",
       "      <th>DATE</th>\n",
       "      <th>HOTEL_ID</th>\n",
       "      <th>DTA</th>\n",
       "      <th>LOS</th>\n",
       "      <th>BOOKING_DOW</th>\n",
       "      <th>ELIGIBLE_IMPS</th>\n",
       "      <th>IMPRESSIONS</th>\n",
       "      <th>CLICKS</th>\n",
       "      <th>SPEND</th>\n",
       "      <th>COMPARISON_TO_LOWEST_PRICE (%)</th>\n",
       "      <th>Unnamed: 10</th>\n",
       "      <th>Unnamed: 11</th>\n",
       "    </tr>\n",
       "  </thead>\n",
       "  <tbody>\n",
       "    <tr>\n",
       "      <th>0</th>\n",
       "      <td>2020-03-12</td>\n",
       "      <td>112100</td>\n",
       "      <td>68</td>\n",
       "      <td>1</td>\n",
       "      <td>Thu</td>\n",
       "      <td>0.0</td>\n",
       "      <td>0.0</td>\n",
       "      <td>0.0</td>\n",
       "      <td>0.0</td>\n",
       "      <td>NaN</td>\n",
       "      <td>NaN</td>\n",
       "      <td>NaN</td>\n",
       "    </tr>\n",
       "    <tr>\n",
       "      <th>1</th>\n",
       "      <td>2020-03-13</td>\n",
       "      <td>551314</td>\n",
       "      <td>1</td>\n",
       "      <td>1</td>\n",
       "      <td>Fri</td>\n",
       "      <td>0.0</td>\n",
       "      <td>0.0</td>\n",
       "      <td>0.0</td>\n",
       "      <td>0.0</td>\n",
       "      <td>NaN</td>\n",
       "      <td>NaN</td>\n",
       "      <td>NaN</td>\n",
       "    </tr>\n",
       "    <tr>\n",
       "      <th>2</th>\n",
       "      <td>2020-03-14</td>\n",
       "      <td>145146</td>\n",
       "      <td>1</td>\n",
       "      <td>1</td>\n",
       "      <td>Sat</td>\n",
       "      <td>0.0</td>\n",
       "      <td>0.0</td>\n",
       "      <td>0.0</td>\n",
       "      <td>0.0</td>\n",
       "      <td>NaN</td>\n",
       "      <td>NaN</td>\n",
       "      <td>NaN</td>\n",
       "    </tr>\n",
       "    <tr>\n",
       "      <th>3</th>\n",
       "      <td>2020-03-11</td>\n",
       "      <td>456469</td>\n",
       "      <td>1</td>\n",
       "      <td>1</td>\n",
       "      <td>Wed</td>\n",
       "      <td>0.0</td>\n",
       "      <td>0.0</td>\n",
       "      <td>0.0</td>\n",
       "      <td>0.0</td>\n",
       "      <td>NaN</td>\n",
       "      <td>NaN</td>\n",
       "      <td>NaN</td>\n",
       "    </tr>\n",
       "    <tr>\n",
       "      <th>4</th>\n",
       "      <td>2020-03-12</td>\n",
       "      <td>233417</td>\n",
       "      <td>102</td>\n",
       "      <td>3</td>\n",
       "      <td>Thu</td>\n",
       "      <td>0.0</td>\n",
       "      <td>0.0</td>\n",
       "      <td>0.0</td>\n",
       "      <td>0.0</td>\n",
       "      <td>NaN</td>\n",
       "      <td>NaN</td>\n",
       "      <td>NaN</td>\n",
       "    </tr>\n",
       "  </tbody>\n",
       "</table>\n",
       "</div>"
      ],
      "text/plain": [
       "        DATE HOTEL_ID  DTA  LOS BOOKING_DOW  ELIGIBLE_IMPS  IMPRESSIONS  \\\n",
       "0 2020-03-12   112100   68    1         Thu            0.0          0.0   \n",
       "1 2020-03-13   551314    1    1         Fri            0.0          0.0   \n",
       "2 2020-03-14   145146    1    1         Sat            0.0          0.0   \n",
       "3 2020-03-11   456469    1    1         Wed            0.0          0.0   \n",
       "4 2020-03-12   233417  102    3         Thu            0.0          0.0   \n",
       "\n",
       "   CLICKS  SPEND  COMPARISON_TO_LOWEST_PRICE (%)  Unnamed: 10  Unnamed: 11  \n",
       "0     0.0    0.0                             NaN          NaN          NaN  \n",
       "1     0.0    0.0                             NaN          NaN          NaN  \n",
       "2     0.0    0.0                             NaN          NaN          NaN  \n",
       "3     0.0    0.0                             NaN          NaN          NaN  \n",
       "4     0.0    0.0                             NaN          NaN          NaN  "
      ]
     },
     "execution_count": 3,
     "metadata": {},
     "output_type": "execute_result"
    },
    {
     "name": "stdout",
     "output_type": "stream",
     "text": [
      "\u001b[1m\u001b[93mFirst 5 rows of booking data \u001b[0m\n"
     ]
    },
    {
     "data": {
      "text/html": [
       "<div>\n",
       "<style scoped>\n",
       "    .dataframe tbody tr th:only-of-type {\n",
       "        vertical-align: middle;\n",
       "    }\n",
       "\n",
       "    .dataframe tbody tr th {\n",
       "        vertical-align: top;\n",
       "    }\n",
       "\n",
       "    .dataframe thead th {\n",
       "        text-align: right;\n",
       "    }\n",
       "</style>\n",
       "<table border=\"1\" class=\"dataframe\">\n",
       "  <thead>\n",
       "    <tr style=\"text-align: right;\">\n",
       "      <th></th>\n",
       "      <th>DATE</th>\n",
       "      <th>EAN_ID</th>\n",
       "      <th>DTA</th>\n",
       "      <th>LOS</th>\n",
       "      <th>CHECK_IN_DATE</th>\n",
       "      <th>BOOKING_DOW</th>\n",
       "      <th>BOOKINGS</th>\n",
       "      <th>GMV</th>\n",
       "    </tr>\n",
       "  </thead>\n",
       "  <tbody>\n",
       "    <tr>\n",
       "      <th>0</th>\n",
       "      <td>2020-03-15</td>\n",
       "      <td>109476</td>\n",
       "      <td>0</td>\n",
       "      <td>2</td>\n",
       "      <td>2020-03-15</td>\n",
       "      <td>Sun</td>\n",
       "      <td>1</td>\n",
       "      <td>68.088832</td>\n",
       "    </tr>\n",
       "    <tr>\n",
       "      <th>1</th>\n",
       "      <td>2020-03-20</td>\n",
       "      <td>219156</td>\n",
       "      <td>0</td>\n",
       "      <td>1</td>\n",
       "      <td>2020-03-20</td>\n",
       "      <td>Fri</td>\n",
       "      <td>1</td>\n",
       "      <td>64.857498</td>\n",
       "    </tr>\n",
       "    <tr>\n",
       "      <th>2</th>\n",
       "      <td>2020-03-15</td>\n",
       "      <td>105485</td>\n",
       "      <td>1</td>\n",
       "      <td>1</td>\n",
       "      <td>2020-03-16</td>\n",
       "      <td>Sun</td>\n",
       "      <td>1</td>\n",
       "      <td>116.797901</td>\n",
       "    </tr>\n",
       "    <tr>\n",
       "      <th>3</th>\n",
       "      <td>2020-03-17</td>\n",
       "      <td>122473</td>\n",
       "      <td>0</td>\n",
       "      <td>1</td>\n",
       "      <td>2020-03-17</td>\n",
       "      <td>Tue</td>\n",
       "      <td>1</td>\n",
       "      <td>118.256947</td>\n",
       "    </tr>\n",
       "    <tr>\n",
       "      <th>4</th>\n",
       "      <td>2020-03-15</td>\n",
       "      <td>201323</td>\n",
       "      <td>0</td>\n",
       "      <td>1</td>\n",
       "      <td>2020-03-15</td>\n",
       "      <td>Sun</td>\n",
       "      <td>1</td>\n",
       "      <td>47.299482</td>\n",
       "    </tr>\n",
       "  </tbody>\n",
       "</table>\n",
       "</div>"
      ],
      "text/plain": [
       "        DATE  EAN_ID  DTA  LOS CHECK_IN_DATE BOOKING_DOW  BOOKINGS         GMV\n",
       "0 2020-03-15  109476    0    2    2020-03-15         Sun         1   68.088832\n",
       "1 2020-03-20  219156    0    1    2020-03-20         Fri         1   64.857498\n",
       "2 2020-03-15  105485    1    1    2020-03-16         Sun         1  116.797901\n",
       "3 2020-03-17  122473    0    1    2020-03-17         Tue         1  118.256947\n",
       "4 2020-03-15  201323    0    1    2020-03-15         Sun         1   47.299482"
      ]
     },
     "execution_count": 3,
     "metadata": {},
     "output_type": "execute_result"
    },
    {
     "name": "stdout",
     "output_type": "stream",
     "text": [
      "\u001b[1m\u001b[93mData Info Spending Data\n",
      "\n",
      "\u001b[0m\n",
      "<class 'pandas.core.frame.DataFrame'>\n",
      "RangeIndex: 1048575 entries, 0 to 1048574\n",
      "Data columns (total 12 columns):\n",
      " #   Column                          Non-Null Count    Dtype         \n",
      "---  ------                          --------------    -----         \n",
      " 0   DATE                            1048575 non-null  datetime64[ns]\n",
      " 1   HOTEL_ID                        1048575 non-null  object        \n",
      " 2   DTA                             1048575 non-null  int64         \n",
      " 3   LOS                             1048575 non-null  int64         \n",
      " 4   BOOKING_DOW                     1048575 non-null  object        \n",
      " 5   ELIGIBLE_IMPS                   1046229 non-null  float64       \n",
      " 6   IMPRESSIONS                     1047969 non-null  float64       \n",
      " 7   CLICKS                          1047969 non-null  float64       \n",
      " 8   SPEND                           1047969 non-null  float64       \n",
      " 9   COMPARISON_TO_LOWEST_PRICE (%)  417517 non-null   float64       \n",
      " 10  Unnamed: 10                     0 non-null        float64       \n",
      " 11  Unnamed: 11                     1 non-null        float64       \n",
      "dtypes: datetime64[ns](1), float64(7), int64(2), object(2)\n",
      "memory usage: 96.0+ MB\n",
      "\n",
      "\n",
      "\n",
      "\u001b[1m\u001b[93mData Info Booking Data\n",
      "\n",
      "\u001b[0m\n",
      "<class 'pandas.core.frame.DataFrame'>\n",
      "RangeIndex: 54912 entries, 0 to 54911\n",
      "Data columns (total 8 columns):\n",
      " #   Column         Non-Null Count  Dtype         \n",
      "---  ------         --------------  -----         \n",
      " 0   DATE           54912 non-null  datetime64[ns]\n",
      " 1   EAN_ID         54912 non-null  object        \n",
      " 2   DTA            54912 non-null  int64         \n",
      " 3   LOS            54912 non-null  int64         \n",
      " 4   CHECK_IN_DATE  54912 non-null  object        \n",
      " 5   BOOKING_DOW    54912 non-null  object        \n",
      " 6   BOOKINGS       54912 non-null  int64         \n",
      " 7   GMV            54912 non-null  float64       \n",
      "dtypes: datetime64[ns](1), float64(1), int64(3), object(3)\n",
      "memory usage: 3.4+ MB\n"
     ]
    }
   ],
   "source": [
    "#Reading the data\n",
    "spend_df=pd.read_csv('spend.csv',dtype={'HOTEL_ID':'object'},parse_dates=['DATE'])\n",
    "booking_df=pd.read_csv('bookings.csv',parse_dates=['DATE'],dtype={'EAN_ID':'object'})\n",
    "#Exploring the data\n",
    "print(color.BOLD + color.YELLOW +\"First 5 rows of spending data \" + color.END)\n",
    "spend_df.head()\n",
    "print(color.BOLD + color.YELLOW +\"First 5 rows of booking data \" + color.END)\n",
    "booking_df.head()\n",
    "print(color.BOLD + color.YELLOW +\"Data Info Spending Data\\n\\n\" + color.END)\n",
    "spend_df.info()\n",
    "print('\\n\\n')\n",
    "print(color.BOLD + color.YELLOW +\"Data Info Booking Data\\n\\n\" + color.END)\n",
    "booking_df.info()\n",
    "\n",
    "#Rename columns\n",
    "spend_df=spend_df.rename(columns={'DTA':'Days_Arrival','LOS':'Length Of Stay','BOOKING_DOW':'Day_Week','COMPARISON_TO_LOWEST_PRICE (%)':'Lowest_Price_%'}).drop(columns=['Unnamed: 10','Unnamed: 11'])\n",
    "booking_df=booking_df.rename(columns={'DTA':'Days_Arrival','LOS':'Length Of Stay','BOOKING_DOW':'Day_Week'})"
   ]
  },
  {
   "cell_type": "markdown",
   "metadata": {},
   "source": [
    "## Key Observation\n",
    "\n",
    "* There are null values in the columns ELIGIBLE_IMPS,IMPRESSIONS,CLICKS,SPEND and Lowest Price\n",
    "* Assuming null values means zero in this case, imputing the null values with zero seems like a good way to clean this data.\n"
   ]
  },
  {
   "cell_type": "markdown",
   "metadata": {},
   "source": [
    "## 2. Data Cleaning"
   ]
  },
  {
   "cell_type": "code",
   "execution_count": 346,
   "metadata": {},
   "outputs": [],
   "source": [
    "cols=['ELIGIBLE_IMPS','IMPRESSIONS','CLICKS','SPEND','Lowest_Price_%']\n",
    "def data_cleaning(data):\n",
    "    for i in cols:\n",
    "        data[cols]=data[cols].fillna(0)\n",
    "    return data\n",
    "spend_df=data_cleaning(spend_df)"
   ]
  },
  {
   "cell_type": "markdown",
   "metadata": {},
   "source": [
    "## 3. Exploratory Data Analysis"
   ]
  },
  {
   "cell_type": "code",
   "execution_count": 347,
   "metadata": {},
   "outputs": [
    {
     "data": {
      "text/html": [
       "<div>\n",
       "<style scoped>\n",
       "    .dataframe tbody tr th:only-of-type {\n",
       "        vertical-align: middle;\n",
       "    }\n",
       "\n",
       "    .dataframe tbody tr th {\n",
       "        vertical-align: top;\n",
       "    }\n",
       "\n",
       "    .dataframe thead th {\n",
       "        text-align: right;\n",
       "    }\n",
       "</style>\n",
       "<table border=\"1\" class=\"dataframe\">\n",
       "  <thead>\n",
       "    <tr style=\"text-align: right;\">\n",
       "      <th></th>\n",
       "      <th>Days_Arrival</th>\n",
       "      <th>Length Of Stay</th>\n",
       "      <th>ELIGIBLE_IMPS</th>\n",
       "      <th>IMPRESSIONS</th>\n",
       "      <th>CLICKS</th>\n",
       "      <th>SPEND</th>\n",
       "      <th>Lowest_Price_%</th>\n",
       "    </tr>\n",
       "  </thead>\n",
       "  <tbody>\n",
       "    <tr>\n",
       "      <th>count</th>\n",
       "      <td>1048575.00</td>\n",
       "      <td>1048575.00</td>\n",
       "      <td>1048575.00</td>\n",
       "      <td>1048575.00</td>\n",
       "      <td>1048575.00</td>\n",
       "      <td>1048575.00</td>\n",
       "      <td>1048575.00</td>\n",
       "    </tr>\n",
       "    <tr>\n",
       "      <th>mean</th>\n",
       "      <td>17.00</td>\n",
       "      <td>1.59</td>\n",
       "      <td>2.52</td>\n",
       "      <td>1.22</td>\n",
       "      <td>0.04</td>\n",
       "      <td>0.02</td>\n",
       "      <td>0.02</td>\n",
       "    </tr>\n",
       "    <tr>\n",
       "      <th>std</th>\n",
       "      <td>22.71</td>\n",
       "      <td>1.20</td>\n",
       "      <td>17.76</td>\n",
       "      <td>8.02</td>\n",
       "      <td>0.33</td>\n",
       "      <td>0.24</td>\n",
       "      <td>0.16</td>\n",
       "    </tr>\n",
       "    <tr>\n",
       "      <th>min</th>\n",
       "      <td>0.00</td>\n",
       "      <td>1.00</td>\n",
       "      <td>0.00</td>\n",
       "      <td>0.00</td>\n",
       "      <td>0.00</td>\n",
       "      <td>0.00</td>\n",
       "      <td>-71.02</td>\n",
       "    </tr>\n",
       "    <tr>\n",
       "      <th>25%</th>\n",
       "      <td>2.00</td>\n",
       "      <td>1.00</td>\n",
       "      <td>0.00</td>\n",
       "      <td>0.00</td>\n",
       "      <td>0.00</td>\n",
       "      <td>0.00</td>\n",
       "      <td>0.00</td>\n",
       "    </tr>\n",
       "    <tr>\n",
       "      <th>50%</th>\n",
       "      <td>8.00</td>\n",
       "      <td>1.00</td>\n",
       "      <td>0.00</td>\n",
       "      <td>0.00</td>\n",
       "      <td>0.00</td>\n",
       "      <td>0.00</td>\n",
       "      <td>0.00</td>\n",
       "    </tr>\n",
       "    <tr>\n",
       "      <th>75%</th>\n",
       "      <td>26.00</td>\n",
       "      <td>2.00</td>\n",
       "      <td>1.00</td>\n",
       "      <td>1.00</td>\n",
       "      <td>0.00</td>\n",
       "      <td>0.00</td>\n",
       "      <td>0.02</td>\n",
       "    </tr>\n",
       "    <tr>\n",
       "      <th>max</th>\n",
       "      <td>238.00</td>\n",
       "      <td>19.00</td>\n",
       "      <td>8559.00</td>\n",
       "      <td>2836.00</td>\n",
       "      <td>42.00</td>\n",
       "      <td>39.32</td>\n",
       "      <td>1.00</td>\n",
       "    </tr>\n",
       "  </tbody>\n",
       "</table>\n",
       "</div>"
      ],
      "text/plain": [
       "       Days_Arrival  Length Of Stay  ELIGIBLE_IMPS  IMPRESSIONS     CLICKS  \\\n",
       "count    1048575.00      1048575.00     1048575.00   1048575.00 1048575.00   \n",
       "mean          17.00            1.59           2.52         1.22       0.04   \n",
       "std           22.71            1.20          17.76         8.02       0.33   \n",
       "min            0.00            1.00           0.00         0.00       0.00   \n",
       "25%            2.00            1.00           0.00         0.00       0.00   \n",
       "50%            8.00            1.00           0.00         0.00       0.00   \n",
       "75%           26.00            2.00           1.00         1.00       0.00   \n",
       "max          238.00           19.00        8559.00      2836.00      42.00   \n",
       "\n",
       "           SPEND  Lowest_Price_%  \n",
       "count 1048575.00      1048575.00  \n",
       "mean        0.02            0.02  \n",
       "std         0.24            0.16  \n",
       "min         0.00          -71.02  \n",
       "25%         0.00            0.00  \n",
       "50%         0.00            0.00  \n",
       "75%         0.00            0.02  \n",
       "max        39.32            1.00  "
      ]
     },
     "execution_count": 347,
     "metadata": {},
     "output_type": "execute_result"
    }
   ],
   "source": [
    "pd.options.display.float_format = '{:.2f}'.format\n",
    "spend_df.describe()"
   ]
  },
  {
   "cell_type": "markdown",
   "metadata": {},
   "source": [
    "## Key Observations\n",
    "\n",
    "### Days_Arrival\n",
    "* Avg Length from booking to day of arrival is 17.However, since standard deviation is large in this case, mean doesn't seem like a valid statistic metric to consider.\n",
    "* Less thatn 50% of the data has an average length as 8.\n",
    "* Maximum length between booking to day of arrival is 238\n",
    "\n",
    "### Length of Stay\n",
    "* Less than 50% of the customers stay only for a day\n",
    "* There seems to be 1 customer who has stayed over 19 days - Interesting data point to consider to see if it's an outlier\n",
    "\n",
    "### Eligible Impression\n",
    "\n",
    "* On avg snap commerce seems to have less than 2 impression rates to provide to the users for their search query.\n",
    "* There seems to be a booking for which 8559 outliers are present - Further exploration needed\n",
    "\n",
    "### Impressions\n",
    "\n",
    "* On avg customers have viewed the impressions only zero times. 50% of the data , the avg impression rate is 0. This makes sense, since the eligible impression rate is also zero.\n",
    "* However, there is an add which has been seen 2836 times by the user- Further exploration needed\n",
    "\n",
    "### Clicks\n",
    "\n",
    "* Less than 75% of the ads has been clicked zero times. This is not a good sign"
   ]
  },
  {
   "cell_type": "markdown",
   "metadata": {},
   "source": [
    "## 4. Feature Engineering\n",
    "\n",
    "* Calculate the day column of the date fields in spending and booking data\n",
    "*"
   ]
  },
  {
   "cell_type": "markdown",
   "metadata": {},
   "source": [
    "### 4.1 Formatting Dates\n",
    "* In the first feature engineering process, we calculate the day number from date.\n",
    "* We also order the Day of the week field , so that we can visualize properly."
   ]
  },
  {
   "cell_type": "code",
   "execution_count": 348,
   "metadata": {},
   "outputs": [],
   "source": [
    "def feature_engineering(df):\n",
    "    \"\"\"\n",
    "    This function calculates the day of the month from the date field.\n",
    "    If the input is 2020/03/12 then Day column will output to 12\n",
    "    \"\"\"\n",
    "    df['DATE']=pd.to_datetime(df['DATE'])\n",
    "    df['Day']=df['DATE'].dt.day\n",
    "    df['Day_Week']=df['DATE'].dt.strftime('%a')\n",
    "    df['Day_Week']=pd.Categorical(df['Day_Week'], categories=\n",
    "    ['Sun','Mon','Tue','Wed','Thu','Fri', 'Sat'],\n",
    "    ordered=True)\n",
    "    \n",
    "    \n",
    "    return df\n",
    "booking_df=feature_engineering(booking_df)\n",
    "spend_df=feature_engineering(spend_df)\n"
   ]
  },
  {
   "cell_type": "markdown",
   "metadata": {},
   "source": [
    "### 4.2 Impressions & Clicks\n",
    "\n",
    "* We calculate the **click rate( No of Clicks/Impressions)**- If the **Impressions are 0**, we default it to **zero**,since it doesn't make sense for the user to click without viewing it.\n",
    "* We also calculate the **Impression rate(No Of Impressions/ELIGIBLE_IMPS)**-However, this might not be an accurate metric since **ELIGIBLE_IMPS** means if the snapcommerce had a **rate for that advertisement** and this might or might **not be shown to user**, so we do not know if the **Impression count** is the **no of times users viewed the advertisement** for which there is a **rate**."
   ]
  },
  {
   "cell_type": "code",
   "execution_count": 349,
   "metadata": {},
   "outputs": [
    {
     "name": "stdout",
     "output_type": "stream",
     "text": [
      "No Of Searches for which People have viewed the advertisement , but there is no Eligible Rate is 30\n",
      "No Of Searches for which People have clicked the advertisement, but there is no views is 359\n"
     ]
    }
   ],
   "source": [
    "#Let's look if people have viewed an advertisement even if snapcommerce does not have a Eligible Rate\n",
    "no_imps=spend_df.loc[(spend_df['IMPRESSIONS']!=0) & (spend_df['ELIGIBLE_IMPS']==0)]\n",
    "\n",
    "print('No Of Searches for which People have viewed the advertisement , but there is no Eligible Rate is {}'.format(no_imps.shape[0]))\n",
    "\n",
    "no_clicks=spend_df.loc[(spend_df['IMPRESSIONS']==0) & (spend_df['CLICKS']!=0)]\n",
    "\n",
    "print('No Of Searches for which People have clicked the advertisement, but there is no views is {}'.format(no_clicks.shape[0]))"
   ]
  },
  {
   "cell_type": "markdown",
   "metadata": {},
   "source": [
    " **30** seems a very small number compared to the overall dataset, so for now , I will calculate this rate and leave it open.\n",
    " \n",
    " **359** also seems like a very small number where clicks are not zero, but Impressions are zero, so I will calculate the click rate for now."
   ]
  },
  {
   "cell_type": "code",
   "execution_count": 350,
   "metadata": {},
   "outputs": [],
   "source": [
    "#Calculation Of Impression_Rate\n",
    "spend_df['Impression_Rate']=spend_df.loc[spend_df['ELIGIBLE_IMPS']==0,'Impression_Rate']=0\n",
    "spend_df['Impression_Rate']=spend_df.loc[spend_df['ELIGIBLE_IMPS']!=0,'Impression_Rate']=round(spend_df['IMPRESSIONS']/spend_df['ELIGIBLE_IMPS']*100)\n",
    "#Calculation Of Click Rate\n",
    "spend_df['Click_Rate']=spend_df.loc[spend_df['IMPRESSIONS']==0,'Impression_Rate']=0\n",
    "spend_df['Click_Rate']=spend_df.loc[(spend_df['IMPRESSIONS']!=0) & (spend_df['CLICKS']!=0) ,'Impression_Rate']=round(spend_df['CLICKS']/spend_df['IMPRESSIONS']*100)\n",
    "spend_df['Click_Rate']=spend_df.loc[(spend_df['IMPRESSIONS']!=0) & (spend_df['CLICKS']==0),'Impression_Rate']=0"
   ]
  },
  {
   "cell_type": "markdown",
   "metadata": {},
   "source": [
    "## 3.1 Date\n"
   ]
  },
  {
   "cell_type": "code",
   "execution_count": 351,
   "metadata": {},
   "outputs": [
    {
     "name": "stdout",
     "output_type": "stream",
     "text": [
      "Range of Date for searches is from 2020-03-01 00:00:00 to 2020-03-30 00:00:00\n",
      "Unique Date Count for search is 30\n",
      "\n",
      "Range of Date for bookings is from 2020-03-01 00:00:00 to 2020-03-30 00:00:00\n",
      "Unique Date Count for booking is 30\n",
      "\n"
     ]
    }
   ],
   "source": [
    "print(\"Range of Date for searches is from {0} to {1}\".format(min(spend_df['DATE']),max(spend_df['DATE'])))\n",
    "print(\"Unique Date Count for search is {}\\n\".format(spend_df['DATE'].nunique()))\n",
    "print(\"Range of Date for bookings is from {0} to {1}\".format(min(booking_df['DATE']),max(booking_df['DATE'])))\n",
    "print(\"Unique Date Count for booking is {}\\n\".format(booking_df['DATE'].nunique()))"
   ]
  },
  {
   "cell_type": "code",
   "execution_count": 352,
   "metadata": {},
   "outputs": [
    {
     "data": {
      "image/png": "[encoded data removed]",
      "text/plain": [
       "<Figure size 576x432 with 1 Axes>"
      ]
     },
     "metadata": {
      "needs_background": "dark"
     },
     "output_type": "display_data"
    }
   ],
   "source": [
    "fig = plt.figure(figsize=(8,6))\n",
    "ax = fig.add_subplot(111)\n",
    "def date_eda(data_df,label,col,color):\n",
    "    \"\"\"\n",
    "    This function plots the no of searches or bookings in a day.\n",
    "    \"\"\"\n",
    "   \n",
    "    df=pd.DataFrame(data_df[col].value_counts().rename_axis(col).reset_index(name='Count'))\n",
    "    ax.plot(df[col],df['Count'],label=label,marker='.',linestyle='none',color=color)\n",
    "    plt.title('Search\\Booking Trend Per {}'.format(col))\n",
    "    plt.ylabel('No Of Searches')\n",
    "    ax.spines['bottom'].set_color('#DCDCDC')\n",
    "    ax.spines['top'].set_color('none') \n",
    "    ax.spines['left'].set_color('#DCDCDC')\n",
    "    ax.spines['right'].set_color('none')\n",
    "    ax.xaxis.label.set_color('#DCDCDC')\n",
    "    ax.tick_params(axis='x', colors='#808080')\n",
    "    ax.tick_params(axis='y', colors='#808080')\n",
    "    plt.savefig('rend.png', bbox_inches='tight',transparent=True,pad_inches=0)\n",
    "    plt.legend()\n",
    "    return df\n",
    "    \n",
    "    \n",
    "   \n",
    "df_spend=date_eda(spend_df,label='Search',col='Day',color='#8C6B92')\n",
    "df_booking=date_eda(booking_df,label='Booking',col='Day',color='#CE7B98')\n"
   ]
  },
  {
   "cell_type": "code",
   "execution_count": 353,
   "metadata": {},
   "outputs": [
    {
     "data": {
      "text/plain": [
       "[<matplotlib.lines.Line2D at 0x7fddaa17bd00>]"
      ]
     },
     "execution_count": 353,
     "metadata": {},
     "output_type": "execute_result"
    },
    {
     "data": {
      "text/plain": [
       "[<matplotlib.lines.Line2D at 0x7fddaa17b340>]"
      ]
     },
     "execution_count": 353,
     "metadata": {},
     "output_type": "execute_result"
    },
    {
     "data": {
      "text/plain": [
       "[<matplotlib.lines.Line2D at 0x7fdda449bfa0>]"
      ]
     },
     "execution_count": 353,
     "metadata": {},
     "output_type": "execute_result"
    },
    {
     "data": {
      "text/plain": [
       "Text(Fri, 3, 'Eligible Impressions')"
      ]
     },
     "execution_count": 353,
     "metadata": {},
     "output_type": "execute_result"
    },
    {
     "data": {
      "text/plain": [
       "Text(Sat, 1.75, 'Impressions')"
      ]
     },
     "execution_count": 353,
     "metadata": {},
     "output_type": "execute_result"
    },
    {
     "data": {
      "text/plain": [
       "Text(Sat, 0.25, 'Clicks')"
      ]
     },
     "execution_count": 353,
     "metadata": {},
     "output_type": "execute_result"
    },
    {
     "data": {
      "image/png": "[encoded data removed]",
      "text/plain": [
       "<Figure size 576x432 with 1 Axes>"
      ]
     },
     "metadata": {
      "needs_background": "dark"
     },
     "output_type": "display_data"
    }
   ],
   "source": [
    "fig = plt.figure(figsize=(8,6))\n",
    "ax = fig.add_subplot(111)\n",
    "\n",
    "ax.plot(Impression_Trend['Day_Week'],Impression_Trend['ELIGIBLE_IMPS'],label='Eligible Impression',marker='.',color='#545973')\n",
    "ax.plot(Impression_Trend['Day_Week'],Impression_Trend['IMPRESSIONS'],label='Impression',marker='.',color='#8C6B92')\n",
    "ax.plot(Impression_Trend['Day_Week'],Impression_Trend['CLICKS'],label='Clicks',marker='.',color='#CE7B98')\n",
    "ax.annotate('Eligible Impressions', xy=('Fri', 3))\n",
    "ax.annotate('Impressions', xy=('Sat', 1.75))\n",
    "ax.annotate('Clicks', xy=('Sat', 0.25))\n",
    "ax.spines['bottom'].set_color('#DCDCDC')\n",
    "ax.spines['top'].set_color('none') \n",
    "ax.spines['left'].set_color('#DCDCDC')\n",
    "ax.spines['right'].set_color('none')\n",
    "ax.xaxis.label.set_color('#DCDCDC')\n",
    "ax.tick_params(axis='x', colors='#808080')\n",
    "ax.tick_params(axis='y', colors='#808080')\n",
    "plt.savefig('rend.png', bbox_inches='tight',transparent=True,pad_inches=0)"
   ]
  },
  {
   "cell_type": "code",
   "execution_count": 354,
   "metadata": {},
   "outputs": [
    {
     "data": {
      "text/html": [
       "<div>\n",
       "<style scoped>\n",
       "    .dataframe tbody tr th:only-of-type {\n",
       "        vertical-align: middle;\n",
       "    }\n",
       "\n",
       "    .dataframe tbody tr th {\n",
       "        vertical-align: top;\n",
       "    }\n",
       "\n",
       "    .dataframe thead th {\n",
       "        text-align: right;\n",
       "    }\n",
       "</style>\n",
       "<table border=\"1\" class=\"dataframe\">\n",
       "  <thead>\n",
       "    <tr style=\"text-align: right;\">\n",
       "      <th></th>\n",
       "      <th>Day</th>\n",
       "      <th>Count</th>\n",
       "    </tr>\n",
       "  </thead>\n",
       "  <tbody>\n",
       "    <tr>\n",
       "      <th>count</th>\n",
       "      <td>30.00</td>\n",
       "      <td>30.00</td>\n",
       "    </tr>\n",
       "    <tr>\n",
       "      <th>mean</th>\n",
       "      <td>15.50</td>\n",
       "      <td>34952.50</td>\n",
       "    </tr>\n",
       "    <tr>\n",
       "      <th>std</th>\n",
       "      <td>8.80</td>\n",
       "      <td>21005.25</td>\n",
       "    </tr>\n",
       "    <tr>\n",
       "      <th>min</th>\n",
       "      <td>1.00</td>\n",
       "      <td>10145.00</td>\n",
       "    </tr>\n",
       "    <tr>\n",
       "      <th>25%</th>\n",
       "      <td>8.25</td>\n",
       "      <td>14522.75</td>\n",
       "    </tr>\n",
       "    <tr>\n",
       "      <th>50%</th>\n",
       "      <td>15.50</td>\n",
       "      <td>31336.00</td>\n",
       "    </tr>\n",
       "    <tr>\n",
       "      <th>75%</th>\n",
       "      <td>22.75</td>\n",
       "      <td>55118.50</td>\n",
       "    </tr>\n",
       "    <tr>\n",
       "      <th>max</th>\n",
       "      <td>30.00</td>\n",
       "      <td>74198.00</td>\n",
       "    </tr>\n",
       "  </tbody>\n",
       "</table>\n",
       "</div>"
      ],
      "text/plain": [
       "        Day    Count\n",
       "count 30.00    30.00\n",
       "mean  15.50 34952.50\n",
       "std    8.80 21005.25\n",
       "min    1.00 10145.00\n",
       "25%    8.25 14522.75\n",
       "50%   15.50 31336.00\n",
       "75%   22.75 55118.50\n",
       "max   30.00 74198.00"
      ]
     },
     "execution_count": 354,
     "metadata": {},
     "output_type": "execute_result"
    },
    {
     "data": {
      "text/html": [
       "<div>\n",
       "<style scoped>\n",
       "    .dataframe tbody tr th:only-of-type {\n",
       "        vertical-align: middle;\n",
       "    }\n",
       "\n",
       "    .dataframe tbody tr th {\n",
       "        vertical-align: top;\n",
       "    }\n",
       "\n",
       "    .dataframe thead th {\n",
       "        text-align: right;\n",
       "    }\n",
       "</style>\n",
       "<table border=\"1\" class=\"dataframe\">\n",
       "  <thead>\n",
       "    <tr style=\"text-align: right;\">\n",
       "      <th></th>\n",
       "      <th>Day</th>\n",
       "      <th>Count</th>\n",
       "    </tr>\n",
       "  </thead>\n",
       "  <tbody>\n",
       "    <tr>\n",
       "      <th>count</th>\n",
       "      <td>30.00</td>\n",
       "      <td>30.00</td>\n",
       "    </tr>\n",
       "    <tr>\n",
       "      <th>mean</th>\n",
       "      <td>15.50</td>\n",
       "      <td>1830.40</td>\n",
       "    </tr>\n",
       "    <tr>\n",
       "      <th>std</th>\n",
       "      <td>8.80</td>\n",
       "      <td>607.33</td>\n",
       "    </tr>\n",
       "    <tr>\n",
       "      <th>min</th>\n",
       "      <td>1.00</td>\n",
       "      <td>810.00</td>\n",
       "    </tr>\n",
       "    <tr>\n",
       "      <th>25%</th>\n",
       "      <td>8.25</td>\n",
       "      <td>1358.25</td>\n",
       "    </tr>\n",
       "    <tr>\n",
       "      <th>50%</th>\n",
       "      <td>15.50</td>\n",
       "      <td>1848.00</td>\n",
       "    </tr>\n",
       "    <tr>\n",
       "      <th>75%</th>\n",
       "      <td>22.75</td>\n",
       "      <td>2217.75</td>\n",
       "    </tr>\n",
       "    <tr>\n",
       "      <th>max</th>\n",
       "      <td>30.00</td>\n",
       "      <td>3304.00</td>\n",
       "    </tr>\n",
       "  </tbody>\n",
       "</table>\n",
       "</div>"
      ],
      "text/plain": [
       "        Day   Count\n",
       "count 30.00   30.00\n",
       "mean  15.50 1830.40\n",
       "std    8.80  607.33\n",
       "min    1.00  810.00\n",
       "25%    8.25 1358.25\n",
       "50%   15.50 1848.00\n",
       "75%   22.75 2217.75\n",
       "max   30.00 3304.00"
      ]
     },
     "execution_count": 354,
     "metadata": {},
     "output_type": "execute_result"
    }
   ],
   "source": [
    "df_spend.describe()\n",
    "df_booking.describe()"
   ]
  },
  {
   "cell_type": "markdown",
   "metadata": {},
   "source": [
    "### Observations\n",
    "\n",
    "* There are more searches than bookings - Not a good sign.\n",
    "* 50% of the searches seems to be done within first 15 days of the month.\n",
    "* 50% of the bookings seems to be done within first 15 days of the month.\n",
    "\n",
    "### Our Goal\n",
    "* Target Advertising during first half of the month.\n",
    "* Convert searches into more booking- Why are our users not clicking on our ads?"
   ]
  },
  {
   "cell_type": "markdown",
   "metadata": {},
   "source": [
    "### Observations\n",
    "\n",
    "* Highest number of searches and bookings are during sundays\n",
    "*Steep in searches during fridays and no search at all during thursdays\n",
    "*Searches seem to pickup from Friday again\n",
    "* Booking seems to follow the same pattern too"
   ]
  },
  {
   "cell_type": "markdown",
   "metadata": {},
   "source": [
    "## Highlight Observations\n",
    "\n",
    "* Target Advertising during weekends especially first half of the month\n",
    "* Investigate more on why the number of searches are not converting into bookings"
   ]
  },
  {
   "cell_type": "markdown",
   "metadata": {},
   "source": [
    "## 3.2 Length Of Stay\n",
    "\n",
    "* In Length Of Stay, we aim to find out the common searches for the stay duration.\n",
    "* We are trying to see, if people are searching more for vacation or short term stays.\n",
    "* My hypothesis is that short term stay searches are more likely to be business meetings or staycation to nearby places.\n",
    "* Long term stays might be for Vacations."
   ]
  },
  {
   "cell_type": "code",
   "execution_count": 356,
   "metadata": {},
   "outputs": [
    {
     "data": {
      "text/plain": [
       "count   1048575.00\n",
       "mean          1.59\n",
       "std           1.20\n",
       "min           1.00\n",
       "25%           1.00\n",
       "50%           1.00\n",
       "75%           2.00\n",
       "max          19.00\n",
       "Name: Length Of Stay, dtype: float64"
      ]
     },
     "execution_count": 356,
     "metadata": {},
     "output_type": "execute_result"
    }
   ],
   "source": [
    "spend_df['Length Of Stay'].describe()"
   ]
  },
  {
   "cell_type": "code",
   "execution_count": 357,
   "metadata": {},
   "outputs": [
    {
     "data": {
      "text/plain": [
       "<AxesSubplot:xlabel='length_of_stay', ylabel='Count'>"
      ]
     },
     "execution_count": 357,
     "metadata": {},
     "output_type": "execute_result"
    },
    {
     "data": {
      "text/plain": [
       "Text(0.5, 1.0, 'No Of Searches per Length Of Stay')"
      ]
     },
     "execution_count": 357,
     "metadata": {},
     "output_type": "execute_result"
    },
    {
     "data": {
      "text/plain": [
       "Text(0.5, 0, 'Length of Stay')"
      ]
     },
     "execution_count": 357,
     "metadata": {},
     "output_type": "execute_result"
    },
    {
     "data": {
      "text/plain": [
       "Text(0, 0.5, 'No Of Searches')"
      ]
     },
     "execution_count": 357,
     "metadata": {},
     "output_type": "execute_result"
    },
    {
     "data": {
      "image/png": "[encoded data removed]",
      "text/plain": [
       "<Figure size 432x288 with 1 Axes>"
      ]
     },
     "metadata": {
      "needs_background": "light"
     },
     "output_type": "display_data"
    }
   ],
   "source": [
    "df=pd.DataFrame(spend_df['Length Of Stay'].value_counts().rename_axis('length_of_stay').reset_index(name='Count'))\n",
    "\n",
    "sns.barplot(x=df['length_of_stay'],y=df['Count'],palette=\"Blues_d\")\n",
    "plt.title('No Of Searches per Length Of Stay')\n",
    "plt.xlabel('Length of Stay')\n",
    "plt.ylabel('No Of Searches')\n",
    "plt.show()"
   ]
  },
  {
   "cell_type": "code",
   "execution_count": 358,
   "metadata": {},
   "outputs": [],
   "source": [
    "def length_of_stay_grouping(data,col):\n",
    "    \"\"\"\n",
    "    This function creates a grouping for the length of stay column\n",
    "    \"\"\"\n",
    "    data['length_of_stay_grouping']=np.select([\n",
    "    data[col].between(1,2,inclusive=True),\n",
    "    data[col].between(3,5,inclusive=True),\n",
    "    data[col].between(6,8,inclusive=True),\n",
    "    data[col]>9\n",
    "],\n",
    "[\n",
    "    '1-2 days stay',\n",
    "    '3-5 days stay',\n",
    "    '6-8 days stay',\n",
    "    'More than 8 days stay'\n",
    "])\n",
    "    return data\n",
    "\n",
    "spend_df=length_of_stay_grouping(spend_df,'Length Of Stay')\n",
    "booking_df=length_of_stay_grouping(booking_df,'Length Of Stay')"
   ]
  },
  {
   "cell_type": "code",
   "execution_count": 359,
   "metadata": {},
   "outputs": [
    {
     "data": {
      "text/plain": [
       "[Text(0.5, 0, 'Length Of Stay'),\n",
       " Text(0, 0.5, 'No Of Searches'),\n",
       " Text(0.5, 1.0, 'No Of Searches Per Length Of Stay')]"
      ]
     },
     "execution_count": 359,
     "metadata": {},
     "output_type": "execute_result"
    },
    {
     "data": {
      "image/png": "[encoded data removed]",
      "text/plain": [
       "<Figure size 432x288 with 1 Axes>"
      ]
     },
     "metadata": {
      "needs_background": "light"
     },
     "output_type": "display_data"
    }
   ],
   "source": [
    "ax=sns.countplot(spend_df['length_of_stay_grouping'])\n",
    "ax.set(xlabel='Length Of Stay',ylabel='No Of Searches',title='No Of Searches Per Length Of Stay')\n"
   ]
  },
  {
   "cell_type": "code",
   "execution_count": 360,
   "metadata": {},
   "outputs": [
    {
     "data": {
      "text/plain": [
       "[Text(0.5, 0, 'Length Of Stay'),\n",
       " Text(0, 0.5, 'No Of Bookings'),\n",
       " Text(0.5, 1.0, 'No Of Bookings Per Length Of Stay')]"
      ]
     },
     "execution_count": 360,
     "metadata": {},
     "output_type": "execute_result"
    },
    {
     "data": {
      "image/png": "[encoded data removed]",
      "text/plain": [
       "<Figure size 432x288 with 1 Axes>"
      ]
     },
     "metadata": {
      "needs_background": "light"
     },
     "output_type": "display_data"
    }
   ],
   "source": [
    "ax=sns.countplot(booking_df['length_of_stay_grouping'])\n",
    "ax.set(xlabel='Length Of Stay',ylabel='No Of Bookings',title='No Of Bookings Per Length Of Stay')"
   ]
  },
  {
   "cell_type": "markdown",
   "metadata": {},
   "source": [
    "### Observations\n",
    "\n",
    "* Short-Stay(1-3) ,Medium Stay(4,5,6) searches and bookings seems to be more "
   ]
  },
  {
   "cell_type": "markdown",
   "metadata": {},
   "source": [
    "## 3.3 Hotel\n",
    "\n",
    "* For this feature, we figure out how many times we search for a particular hotel.\n",
    "* So , I group by hotel_id and count the number of searches.\n",
    "* Then, I take the histogram of the count to figure out how many times the searches occur ,so that I can group them into buckets.\n",
    "* Then,I bucket them into \"Extremely High-Demand,High-Demand\",\"Medium-Demand\",\"Low-Demand\" Hotels.\n",
    "* This will give us an idea of how much SnapCommerce is spending on these high demand hotels."
   ]
  },
  {
   "cell_type": "code",
   "execution_count": 361,
   "metadata": {
    "scrolled": true
   },
   "outputs": [
    {
     "data": {
      "text/plain": [
       "count   83163.00\n",
       "mean       12.61\n",
       "std        24.34\n",
       "min         1.00\n",
       "25%         2.00\n",
       "50%         6.00\n",
       "75%        15.00\n",
       "max      1028.00\n",
       "Name: Count, dtype: float64"
      ]
     },
     "execution_count": 361,
     "metadata": {},
     "output_type": "execute_result"
    },
    {
     "data": {
      "text/plain": [
       "<AxesSubplot:xlabel='Count', ylabel='Density'>"
      ]
     },
     "execution_count": 361,
     "metadata": {},
     "output_type": "execute_result"
    },
    {
     "data": {
      "image/png": "[encoded data removed]",
      "text/plain": [
       "<Figure size 432x288 with 1 Axes>"
      ]
     },
     "metadata": {
      "needs_background": "light"
     },
     "output_type": "display_data"
    }
   ],
   "source": [
    "hotel_hist=pd.DataFrame(spend_df['HOTEL_ID'].value_counts().rename_axis('hotel_id').reset_index(name='Count'))\n",
    "hotel_hist['Count'].describe()\n",
    "sns.distplot(hotel_hist['Count'],bins=20)"
   ]
  },
  {
   "cell_type": "code",
   "execution_count": 362,
   "metadata": {},
   "outputs": [],
   "source": [
    "#Merging the search count to the original data_set\n",
    "spend_df=spend_df.merge(hotel_hist,left_on='HOTEL_ID',right_on='hotel_id')\n",
    "spend_df=spend_df.drop(columns=['hotel_id']).rename(columns={'Count':'hotel_search_count'})"
   ]
  },
  {
   "cell_type": "markdown",
   "metadata": {},
   "source": [
    "* We see that **75%** of the hotels are searched less than **15 times** in a month.\n",
    "* **Few Hotels** are searched more than **200 times** - This is our **Golden Segment**, since these few hotesls have a potential to drive more revenue.\n"
   ]
  },
  {
   "cell_type": "code",
   "execution_count": 363,
   "metadata": {},
   "outputs": [],
   "source": [
    "\n",
    "def hotel_rating(data,col):\n",
    "    \"\"\"\n",
    "    This function creates a grouping for the demand of the hotel based on the search count\n",
    "    \"\"\"\n",
    "    data['hotel_rating']=np.select([\n",
    "    data[col].between(1,4,inclusive=True),\n",
    "    data[col].between(5,15,inclusive=True),\n",
    "    data[col].between(16,100,inclusive=True),\n",
    "    data[col]>100\n",
    "],\n",
    "[\n",
    "    'Low Demand(1-4 Searches)',\n",
    "    'Medium Demand(5-15 Searches)',\n",
    "    'High Demand(16-100 Searches)',\n",
    "    'Extremely High Demand(>100 Searches)'\n",
    "])\n",
    "    return data\n",
    "spend_df=hotel_rating(spend_df,'hotel_search_count')"
   ]
  },
  {
   "cell_type": "code",
   "execution_count": 364,
   "metadata": {},
   "outputs": [
    {
     "data": {
      "text/plain": [
       "<AxesSubplot:xlabel='hotel_rating', ylabel='count'>"
      ]
     },
     "execution_count": 364,
     "metadata": {},
     "output_type": "execute_result"
    },
    {
     "data": {
      "image/png": "[encoded data removed]",
      "text/plain": [
       "<Figure size 432x288 with 1 Axes>"
      ]
     },
     "metadata": {
      "needs_background": "light"
     },
     "output_type": "display_data"
    }
   ],
   "source": [
    "#Distribution of Hotel Rating\n",
    "sns.countplot(spend_df['hotel_rating'])"
   ]
  },
  {
   "cell_type": "markdown",
   "metadata": {},
   "source": [
    "## Observations\n",
    "\n",
    "* Even though, we saw that there are few hotels searched multiple times by the users , but many users are searching for these hotels we can see that High Demand hotels has a potential to drive up our revenue"
   ]
  },
  {
   "cell_type": "markdown",
   "metadata": {},
   "source": [
    "### 3.4 Days_Arrival"
   ]
  },
  {
   "cell_type": "code",
   "execution_count": 365,
   "metadata": {},
   "outputs": [
    {
     "data": {
      "text/plain": [
       "count   1048575.00\n",
       "mean         17.00\n",
       "std          22.71\n",
       "min           0.00\n",
       "25%           2.00\n",
       "50%           8.00\n",
       "75%          26.00\n",
       "max         238.00\n",
       "Name: Days_Arrival, dtype: float64"
      ]
     },
     "execution_count": 365,
     "metadata": {},
     "output_type": "execute_result"
    },
    {
     "data": {
      "text/plain": [
       "<AxesSubplot:xlabel='Days_Arrival'>"
      ]
     },
     "execution_count": 365,
     "metadata": {},
     "output_type": "execute_result"
    },
    {
     "data": {
      "image/png": "[encoded data removed]",
      "text/plain": [
       "<Figure size 432x288 with 1 Axes>"
      ]
     },
     "metadata": {
      "needs_background": "light"
     },
     "output_type": "display_data"
    }
   ],
   "source": [
    "spend_df['Days_Arrival'].describe()\n",
    "sns.boxplot(spend_df['Days_Arrival'])"
   ]
  },
  {
   "cell_type": "code",
   "execution_count": 366,
   "metadata": {},
   "outputs": [],
   "source": [
    "def arrival_date(data,col):\n",
    "    \"\"\"\n",
    "    This function creates a grouping for the length of stay column\n",
    "    \"\"\"\n",
    "    data['booking_priority']=np.select([\n",
    "    data[col].between(0,2,inclusive=True),\n",
    "    data[col].between(3,10,inclusive=True),\n",
    "    data[col].between(11,31,inclusive=True),\n",
    "    data[col]>31\n",
    "],\n",
    "[\n",
    "    'Priority Check-in(0-2 Days)',\n",
    "    'Within 10 Days check-in',\n",
    "    'Within a Month check-in',\n",
    "    'After a Month check-in'\n",
    "])\n",
    "    return data\n",
    "spend_df=arrival_date(spend_df,'Days_Arrival')\n",
    "booking_df=arrival_date(booking_df,'Days_Arrival')"
   ]
  },
  {
   "cell_type": "code",
   "execution_count": 367,
   "metadata": {},
   "outputs": [
    {
     "data": {
      "text/plain": [
       "<AxesSubplot:xlabel='booking_priority', ylabel='count'>"
      ]
     },
     "execution_count": 367,
     "metadata": {},
     "output_type": "execute_result"
    },
    {
     "data": {
      "image/png": "[encoded data removed]",
      "text/plain": [
       "<Figure size 432x288 with 1 Axes>"
      ]
     },
     "metadata": {
      "needs_background": "light"
     },
     "output_type": "display_data"
    }
   ],
   "source": [
    "sns.countplot(spend_df['booking_priority'])"
   ]
  },
  {
   "cell_type": "markdown",
   "metadata": {},
   "source": [
    "### Observations\n",
    "* People seem to be searching for Urgent Booking and Low Priority Booking Hotels"
   ]
  },
  {
   "cell_type": "markdown",
   "metadata": {},
   "source": [
    "### 3.5 Eligible IMPS\n",
    "\n",
    "* Eligible IMPS suggests if snapcommerce had a rate for the search, this search might or not be shown to the user.\n",
    "* It will be interesting to see, if snapcommerce had a rate for our High Search, Urgent Booking, Shorter Stay searches."
   ]
  },
  {
   "cell_type": "code",
   "execution_count": 368,
   "metadata": {},
   "outputs": [
    {
     "data": {
      "text/plain": [
       "count   1048575.00\n",
       "mean          2.52\n",
       "std          17.76\n",
       "min           0.00\n",
       "25%           0.00\n",
       "50%           0.00\n",
       "75%           1.00\n",
       "max        8559.00\n",
       "Name: ELIGIBLE_IMPS, dtype: float64"
      ]
     },
     "execution_count": 368,
     "metadata": {},
     "output_type": "execute_result"
    },
    {
     "data": {
      "text/plain": [
       "<AxesSubplot:xlabel='ELIGIBLE_IMPS'>"
      ]
     },
     "execution_count": 368,
     "metadata": {},
     "output_type": "execute_result"
    },
    {
     "name": "stdout",
     "output_type": "stream",
     "text": [
      "60% Of the times snapcommerce had no rate to be shown to the user\n"
     ]
    },
    {
     "data": {
      "image/png": "[encoded data removed]",
      "text/plain": [
       "<Figure size 432x288 with 1 Axes>"
      ]
     },
     "metadata": {
      "needs_background": "light"
     },
     "output_type": "display_data"
    }
   ],
   "source": [
    "#Let's look at the overall distribution of the Eligible IMPS field\n",
    "spend_df['ELIGIBLE_IMPS'].describe()\n",
    "sns.boxplot(spend_df['ELIGIBLE_IMPS'])\n",
    "\n",
    "rate=round(spend_df['ELIGIBLE_IMPS'].loc[spend_df['ELIGIBLE_IMPS']==0].shape[0]/spend_df.shape[0]*100)\n",
    "print(\"{}% Of the times snapcommerce had no rate to be shown to the user\".format(rate))"
   ]
  },
  {
   "cell_type": "markdown",
   "metadata": {},
   "source": [
    "### Observations\n",
    "* Box Plot suggests that there are way more outliers for this dataset.\n",
    "* 75% of the searches have an Eligible Impression of 1. 50% of the dataset has no Eligible Impression.\n",
    "\n",
    "**Does ELIGIBLE Impression rate has any correlation with any of the fields?\n",
    "We will explore further**"
   ]
  },
  {
   "cell_type": "markdown",
   "metadata": {},
   "source": [
    "### 3.6 Impressions\n",
    "\n",
    "Impressions corresponds to number of times users viewed the advertisements.\n",
    "If there are more views to the advertisement, then it could result in more clicks and essentially translate to booking."
   ]
  },
  {
   "cell_type": "code",
   "execution_count": 369,
   "metadata": {
    "scrolled": true
   },
   "outputs": [
    {
     "data": {
      "text/plain": [
       "count   1048575.00\n",
       "mean          1.22\n",
       "std           8.02\n",
       "min           0.00\n",
       "25%           0.00\n",
       "50%           0.00\n",
       "75%           1.00\n",
       "max        2836.00\n",
       "Name: IMPRESSIONS, dtype: float64"
      ]
     },
     "execution_count": 369,
     "metadata": {},
     "output_type": "execute_result"
    },
    {
     "data": {
      "text/plain": [
       "<AxesSubplot:xlabel='IMPRESSIONS'>"
      ]
     },
     "execution_count": 369,
     "metadata": {},
     "output_type": "execute_result"
    },
    {
     "name": "stdout",
     "output_type": "stream",
     "text": [
      "60% Of the times there were no views to the advertisement resulting from the search\n"
     ]
    },
    {
     "data": {
      "image/png": "[encoded data removed]",
      "text/plain": [
       "<Figure size 432x288 with 1 Axes>"
      ]
     },
     "metadata": {
      "needs_background": "light"
     },
     "output_type": "display_data"
    }
   ],
   "source": [
    "#Let's look at the overall distribution of the Impressions field\n",
    "spend_df['IMPRESSIONS'].describe()\n",
    "sns.boxplot(spend_df['IMPRESSIONS'])\n",
    "\n",
    "rate=round(spend_df['IMPRESSIONS'].loc[spend_df['IMPRESSIONS']==0].shape[0]/spend_df.shape[0]*100)\n",
    "print(\"{}% Of the times there were no views to the advertisement resulting from the search\".format(rate))"
   ]
  },
  {
   "cell_type": "markdown",
   "metadata": {},
   "source": [
    "### Observations\n",
    "* **75%** of the **searches** resulted only in **1 View**. **50%** of the dataset have **no views**.\n",
    "* Could it be that there are no rates for these advertisements or the bid is too low for this?"
   ]
  },
  {
   "cell_type": "markdown",
   "metadata": {},
   "source": [
    "### 3.7 Clicks\n",
    "\n"
   ]
  },
  {
   "cell_type": "code",
   "execution_count": 370,
   "metadata": {},
   "outputs": [
    {
     "data": {
      "text/plain": [
       "count   1048575.00\n",
       "mean          0.04\n",
       "std           0.33\n",
       "min           0.00\n",
       "25%           0.00\n",
       "50%           0.00\n",
       "75%           0.00\n",
       "max          42.00\n",
       "Name: CLICKS, dtype: float64"
      ]
     },
     "execution_count": 370,
     "metadata": {},
     "output_type": "execute_result"
    },
    {
     "data": {
      "text/plain": [
       "<AxesSubplot:xlabel='CLICKS'>"
      ]
     },
     "execution_count": 370,
     "metadata": {},
     "output_type": "execute_result"
    },
    {
     "name": "stdout",
     "output_type": "stream",
     "text": [
      "97% Of the times there were no clicks to the advertisement resulting from the search\n"
     ]
    },
    {
     "data": {
      "image/png": "[encoded data removed]",
      "text/plain": [
       "<Figure size 432x288 with 1 Axes>"
      ]
     },
     "metadata": {
      "needs_background": "light"
     },
     "output_type": "display_data"
    }
   ],
   "source": [
    "#Let's look at the overall distribution of the Impressions field\n",
    "spend_df['CLICKS'].describe()\n",
    "sns.boxplot(spend_df['CLICKS'])\n",
    "\n",
    "rate=round(spend_df['CLICKS'].loc[spend_df['CLICKS']==0].shape[0]/spend_df.shape[0]*100)\n",
    "print(\"{}% Of the times there were no clicks to the advertisement resulting from the search\".format(rate))"
   ]
  },
  {
   "cell_type": "markdown",
   "metadata": {},
   "source": [
    "### Observations\n",
    "\n",
    "* Conversion rate from views to Clicks is very low.\n",
    "* **97%** of the time there were **no clicks** to the advertisement resulting from the search"
   ]
  },
  {
   "cell_type": "markdown",
   "metadata": {},
   "source": [
    "### 3.8 Spend\n",
    "\n",
    "* Spend means the total amount snapcommerce spend for the clicks\n",
    "* Since the clicks were very low , we can assume that spend might also have been very low.\n"
   ]
  },
  {
   "cell_type": "code",
   "execution_count": 371,
   "metadata": {},
   "outputs": [
    {
     "data": {
      "text/plain": [
       "count   1048575.00\n",
       "mean          0.02\n",
       "std           0.24\n",
       "min           0.00\n",
       "25%           0.00\n",
       "50%           0.00\n",
       "75%           0.00\n",
       "max          39.32\n",
       "Name: SPEND, dtype: float64"
      ]
     },
     "execution_count": 371,
     "metadata": {},
     "output_type": "execute_result"
    },
    {
     "data": {
      "text/plain": [
       "<AxesSubplot:xlabel='SPEND'>"
      ]
     },
     "execution_count": 371,
     "metadata": {},
     "output_type": "execute_result"
    },
    {
     "data": {
      "image/png": "[encoded data removed]",
      "text/plain": [
       "<Figure size 432x288 with 1 Axes>"
      ]
     },
     "metadata": {
      "needs_background": "light"
     },
     "output_type": "display_data"
    },
    {
     "data": {
      "text/plain": [
       "<AxesSubplot:xlabel='SPEND', ylabel='Density'>"
      ]
     },
     "execution_count": 371,
     "metadata": {},
     "output_type": "execute_result"
    },
    {
     "name": "stdout",
     "output_type": "stream",
     "text": [
      "98% Of the times there were no clicks to the advertisement resulting from the search\n"
     ]
    },
    {
     "data": {
      "image/png": "[encoded data removed]",
      "text/plain": [
       "<Figure size 432x288 with 1 Axes>"
      ]
     },
     "metadata": {
      "needs_background": "light"
     },
     "output_type": "display_data"
    }
   ],
   "source": [
    "#Let's look at the overall distribution of the Impressions field\n",
    "spend_df['SPEND'].describe()\n",
    "sns.boxplot(spend_df['SPEND'])\n",
    "plt.show()\n",
    "sns.distplot(spend_df['SPEND'])\n",
    "rate=round(spend_df['SPEND'].loc[spend_df['SPEND']==0].shape[0]/spend_df.shape[0]*100)\n",
    "print(\"{}% Of the times there were no clicks to the advertisement resulting from the search\".format(rate))"
   ]
  },
  {
   "cell_type": "markdown",
   "metadata": {},
   "source": [
    "### 3.0 Lowest_Price\n",
    "\n",
    "* **Lowest Price means the **% change from snap commerce's price and it's lowest competitors price**.\n",
    "* My assumption is that if the **competitors price** is **lower** than **snap commerce** then this value will be **negative**.\n",
    "* If it is **positive** then snapcommerce had a lower price than it's competitiors."
   ]
  },
  {
   "cell_type": "code",
   "execution_count": 372,
   "metadata": {},
   "outputs": [
    {
     "data": {
      "text/plain": [
       "count   1048575.00\n",
       "mean          0.02\n",
       "std           0.16\n",
       "min         -71.02\n",
       "25%           0.00\n",
       "50%           0.00\n",
       "75%           0.02\n",
       "max           1.00\n",
       "Name: Lowest_Price_%, dtype: float64"
      ]
     },
     "execution_count": 372,
     "metadata": {},
     "output_type": "execute_result"
    },
    {
     "data": {
      "text/plain": [
       "<AxesSubplot:xlabel='Lowest_Price_%', ylabel='Density'>"
      ]
     },
     "execution_count": 372,
     "metadata": {},
     "output_type": "execute_result"
    },
    {
     "name": "stdout",
     "output_type": "stream",
     "text": [
      "88% of the time snap commerce's rate was lower than it's competitor's\n"
     ]
    },
    {
     "data": {
      "image/png": "[encoded data removed]",
      "text/plain": [
       "<Figure size 432x288 with 1 Axes>"
      ]
     },
     "metadata": {
      "needs_background": "light"
     },
     "output_type": "display_data"
    }
   ],
   "source": [
    "spend_df['Lowest_Price_%'].describe()\n",
    "sns.distplot(spend_df['Lowest_Price_%'])\n",
    "print (\"{}% of the time snap commerce's rate was lower than it's competitor's\".format(round(spend_df.loc[spend_df['Lowest_Price_%']>=0].shape[0]/spend_df.shape[0]*100)))"
   ]
  },
  {
   "cell_type": "markdown",
   "metadata": {},
   "source": [
    "### Observations\n",
    "\n",
    "* If 87% of the time snapcommerce had a lower price than it's competitors, then why are the clicks and views so low?\n"
   ]
  },
  {
   "cell_type": "code",
   "execution_count": 373,
   "metadata": {},
   "outputs": [
    {
     "name": "stdout",
     "output_type": "stream",
     "text": [
      "60% of the times snap commerce had lowest price than the competitors but there was no eligible rate\n"
     ]
    }
   ],
   "source": [
    "print(\"{}% of the times snap commerce had lowest price than the competitors but there was no eligible rate\".format(round(spend_df.loc[(spend_df['Lowest_Price_%']>=0) & (spend_df['ELIGIBLE_IMPS']==0)].shape[0]/spend_df.shape[0]*100)))"
   ]
  },
  {
   "cell_type": "code",
   "execution_count": 374,
   "metadata": {},
   "outputs": [
    {
     "data": {
      "image/png": "[encoded data removed]",
      "text/plain": [
       "<Figure size 432x288 with 2 Axes>"
      ]
     },
     "metadata": {
      "needs_background": "light"
     },
     "output_type": "display_data"
    }
   ],
   "source": [
    "corr=spend_df.corr()\n",
    "ax = sns.heatmap(\n",
    "    corr, \n",
    "    vmin=-1, vmax=1, center=0,\n",
    "    cmap=sns.diverging_palette(20, 220, n=200),\n",
    "    square=True\n",
    ")\n",
    "ax.set_xticklabels(\n",
    "    ax.get_xticklabels(),\n",
    "    rotation=45,\n",
    "    horizontalalignment='right'\n",
    ");"
   ]
  },
  {
   "cell_type": "code",
   "execution_count": 375,
   "metadata": {
    "scrolled": true
   },
   "outputs": [
    {
     "data": {
      "text/plain": [
       "<AxesSubplot:xlabel='SPEND', ylabel='CLICKS'>"
      ]
     },
     "execution_count": 375,
     "metadata": {},
     "output_type": "execute_result"
    },
    {
     "data": {
      "image/png": "[encoded data removed]",
      "text/plain": [
       "<Figure size 432x288 with 1 Axes>"
      ]
     },
     "metadata": {
      "needs_background": "light"
     },
     "output_type": "display_data"
    }
   ],
   "source": [
    "sns.scatterplot(data=spend_df, x=\"SPEND\", y=\"CLICKS\")"
   ]
  },
  {
   "cell_type": "markdown",
   "metadata": {},
   "source": [
    "## 4 Bookings EDA"
   ]
  },
  {
   "cell_type": "code",
   "execution_count": 376,
   "metadata": {},
   "outputs": [
    {
     "data": {
      "text/html": [
       "<div>\n",
       "<style scoped>\n",
       "    .dataframe tbody tr th:only-of-type {\n",
       "        vertical-align: middle;\n",
       "    }\n",
       "\n",
       "    .dataframe tbody tr th {\n",
       "        vertical-align: top;\n",
       "    }\n",
       "\n",
       "    .dataframe thead th {\n",
       "        text-align: right;\n",
       "    }\n",
       "</style>\n",
       "<table border=\"1\" class=\"dataframe\">\n",
       "  <thead>\n",
       "    <tr style=\"text-align: right;\">\n",
       "      <th></th>\n",
       "      <th>Days_Arrival</th>\n",
       "      <th>Length Of Stay</th>\n",
       "      <th>BOOKINGS</th>\n",
       "      <th>GMV</th>\n",
       "      <th>Day</th>\n",
       "    </tr>\n",
       "  </thead>\n",
       "  <tbody>\n",
       "    <tr>\n",
       "      <th>count</th>\n",
       "      <td>54912.00</td>\n",
       "      <td>54912.00</td>\n",
       "      <td>54912.00</td>\n",
       "      <td>54912.00</td>\n",
       "      <td>54912.00</td>\n",
       "    </tr>\n",
       "    <tr>\n",
       "      <th>mean</th>\n",
       "      <td>2.63</td>\n",
       "      <td>1.33</td>\n",
       "      <td>1.12</td>\n",
       "      <td>108.44</td>\n",
       "      <td>13.69</td>\n",
       "    </tr>\n",
       "    <tr>\n",
       "      <th>std</th>\n",
       "      <td>11.01</td>\n",
       "      <td>0.82</td>\n",
       "      <td>0.48</td>\n",
       "      <td>90.63</td>\n",
       "      <td>7.97</td>\n",
       "    </tr>\n",
       "    <tr>\n",
       "      <th>min</th>\n",
       "      <td>0.00</td>\n",
       "      <td>1.00</td>\n",
       "      <td>1.00</td>\n",
       "      <td>10.11</td>\n",
       "      <td>1.00</td>\n",
       "    </tr>\n",
       "    <tr>\n",
       "      <th>25%</th>\n",
       "      <td>0.00</td>\n",
       "      <td>1.00</td>\n",
       "      <td>1.00</td>\n",
       "      <td>60.60</td>\n",
       "      <td>7.00</td>\n",
       "    </tr>\n",
       "    <tr>\n",
       "      <th>50%</th>\n",
       "      <td>0.00</td>\n",
       "      <td>1.00</td>\n",
       "      <td>1.00</td>\n",
       "      <td>82.68</td>\n",
       "      <td>13.00</td>\n",
       "    </tr>\n",
       "    <tr>\n",
       "      <th>75%</th>\n",
       "      <td>1.00</td>\n",
       "      <td>1.00</td>\n",
       "      <td>1.00</td>\n",
       "      <td>122.93</td>\n",
       "      <td>20.00</td>\n",
       "    </tr>\n",
       "    <tr>\n",
       "      <th>max</th>\n",
       "      <td>364.00</td>\n",
       "      <td>17.00</td>\n",
       "      <td>19.00</td>\n",
       "      <td>3405.32</td>\n",
       "      <td>30.00</td>\n",
       "    </tr>\n",
       "  </tbody>\n",
       "</table>\n",
       "</div>"
      ],
      "text/plain": [
       "       Days_Arrival  Length Of Stay  BOOKINGS      GMV      Day\n",
       "count      54912.00        54912.00  54912.00 54912.00 54912.00\n",
       "mean           2.63            1.33      1.12   108.44    13.69\n",
       "std           11.01            0.82      0.48    90.63     7.97\n",
       "min            0.00            1.00      1.00    10.11     1.00\n",
       "25%            0.00            1.00      1.00    60.60     7.00\n",
       "50%            0.00            1.00      1.00    82.68    13.00\n",
       "75%            1.00            1.00      1.00   122.93    20.00\n",
       "max          364.00           17.00     19.00  3405.32    30.00"
      ]
     },
     "execution_count": 376,
     "metadata": {},
     "output_type": "execute_result"
    }
   ],
   "source": [
    "booking_df.describe()"
   ]
  },
  {
   "cell_type": "markdown",
   "metadata": {},
   "source": [
    "### 4.1 Days Arrival"
   ]
  },
  {
   "cell_type": "code",
   "execution_count": 377,
   "metadata": {},
   "outputs": [],
   "source": [
    "def booking_eda(data):\n",
    "    sns.boxplot(data)\n",
    "    plt.show()\n",
    "    sns.distplot(data)\n",
    "    plt.show()"
   ]
  },
  {
   "cell_type": "code",
   "execution_count": 378,
   "metadata": {},
   "outputs": [
    {
     "data": {
      "text/html": [
       "<div>\n",
       "<style scoped>\n",
       "    .dataframe tbody tr th:only-of-type {\n",
       "        vertical-align: middle;\n",
       "    }\n",
       "\n",
       "    .dataframe tbody tr th {\n",
       "        vertical-align: top;\n",
       "    }\n",
       "\n",
       "    .dataframe thead th {\n",
       "        text-align: right;\n",
       "    }\n",
       "</style>\n",
       "<table border=\"1\" class=\"dataframe\">\n",
       "  <thead>\n",
       "    <tr style=\"text-align: right;\">\n",
       "      <th></th>\n",
       "      <th>Days_Arrival</th>\n",
       "      <th>Length Of Stay</th>\n",
       "      <th>BOOKINGS</th>\n",
       "      <th>GMV</th>\n",
       "      <th>Day</th>\n",
       "    </tr>\n",
       "  </thead>\n",
       "  <tbody>\n",
       "    <tr>\n",
       "      <th>count</th>\n",
       "      <td>54912.00</td>\n",
       "      <td>54912.00</td>\n",
       "      <td>54912.00</td>\n",
       "      <td>54912.00</td>\n",
       "      <td>54912.00</td>\n",
       "    </tr>\n",
       "    <tr>\n",
       "      <th>mean</th>\n",
       "      <td>2.63</td>\n",
       "      <td>1.33</td>\n",
       "      <td>1.12</td>\n",
       "      <td>108.44</td>\n",
       "      <td>13.69</td>\n",
       "    </tr>\n",
       "    <tr>\n",
       "      <th>std</th>\n",
       "      <td>11.01</td>\n",
       "      <td>0.82</td>\n",
       "      <td>0.48</td>\n",
       "      <td>90.63</td>\n",
       "      <td>7.97</td>\n",
       "    </tr>\n",
       "    <tr>\n",
       "      <th>min</th>\n",
       "      <td>0.00</td>\n",
       "      <td>1.00</td>\n",
       "      <td>1.00</td>\n",
       "      <td>10.11</td>\n",
       "      <td>1.00</td>\n",
       "    </tr>\n",
       "    <tr>\n",
       "      <th>25%</th>\n",
       "      <td>0.00</td>\n",
       "      <td>1.00</td>\n",
       "      <td>1.00</td>\n",
       "      <td>60.60</td>\n",
       "      <td>7.00</td>\n",
       "    </tr>\n",
       "    <tr>\n",
       "      <th>50%</th>\n",
       "      <td>0.00</td>\n",
       "      <td>1.00</td>\n",
       "      <td>1.00</td>\n",
       "      <td>82.68</td>\n",
       "      <td>13.00</td>\n",
       "    </tr>\n",
       "    <tr>\n",
       "      <th>75%</th>\n",
       "      <td>1.00</td>\n",
       "      <td>1.00</td>\n",
       "      <td>1.00</td>\n",
       "      <td>122.93</td>\n",
       "      <td>20.00</td>\n",
       "    </tr>\n",
       "    <tr>\n",
       "      <th>max</th>\n",
       "      <td>364.00</td>\n",
       "      <td>17.00</td>\n",
       "      <td>19.00</td>\n",
       "      <td>3405.32</td>\n",
       "      <td>30.00</td>\n",
       "    </tr>\n",
       "  </tbody>\n",
       "</table>\n",
       "</div>"
      ],
      "text/plain": [
       "       Days_Arrival  Length Of Stay  BOOKINGS      GMV      Day\n",
       "count      54912.00        54912.00  54912.00 54912.00 54912.00\n",
       "mean           2.63            1.33      1.12   108.44    13.69\n",
       "std           11.01            0.82      0.48    90.63     7.97\n",
       "min            0.00            1.00      1.00    10.11     1.00\n",
       "25%            0.00            1.00      1.00    60.60     7.00\n",
       "50%            0.00            1.00      1.00    82.68    13.00\n",
       "75%            1.00            1.00      1.00   122.93    20.00\n",
       "max          364.00           17.00     19.00  3405.32    30.00"
      ]
     },
     "execution_count": 378,
     "metadata": {},
     "output_type": "execute_result"
    }
   ],
   "source": [
    "booking_df.describe()"
   ]
  },
  {
   "cell_type": "code",
   "execution_count": 379,
   "metadata": {
    "scrolled": true
   },
   "outputs": [
    {
     "data": {
      "image/png": "[encoded data removed]",
      "text/plain": [
       "<Figure size 432x288 with 1 Axes>"
      ]
     },
     "metadata": {
      "needs_background": "light"
     },
     "output_type": "display_data"
    },
    {
     "data": {
      "image/png": "[encoded data removed]",
      "text/plain": [
       "<Figure size 432x288 with 1 Axes>"
      ]
     },
     "metadata": {
      "needs_background": "light"
     },
     "output_type": "display_data"
    }
   ],
   "source": [
    "booking_eda(booking_df['Days_Arrival'])"
   ]
  },
  {
   "cell_type": "code",
   "execution_count": 380,
   "metadata": {},
   "outputs": [
    {
     "data": {
      "text/plain": [
       "<AxesSubplot:xlabel='booking_priority', ylabel='count'>"
      ]
     },
     "execution_count": 380,
     "metadata": {},
     "output_type": "execute_result"
    },
    {
     "data": {
      "image/png": "[encoded data removed]",
      "text/plain": [
       "<Figure size 432x288 with 1 Axes>"
      ]
     },
     "metadata": {
      "needs_background": "light"
     },
     "output_type": "display_data"
    }
   ],
   "source": [
    "sns.countplot(booking_df['booking_priority'])"
   ]
  },
  {
   "cell_type": "code",
   "execution_count": 381,
   "metadata": {},
   "outputs": [
    {
     "data": {
      "text/plain": [
       "Index(['DATE', 'EAN_ID', 'Days_Arrival', 'Length Of Stay', 'CHECK_IN_DATE',\n",
       "       'Day_Week', 'BOOKINGS', 'GMV', 'Day', 'length_of_stay_grouping',\n",
       "       'booking_priority'],\n",
       "      dtype='object')"
      ]
     },
     "execution_count": 381,
     "metadata": {},
     "output_type": "execute_result"
    }
   ],
   "source": [
    "booking_df.columns"
   ]
  },
  {
   "cell_type": "markdown",
   "metadata": {},
   "source": [
    "### 4.2 Length Of Stay"
   ]
  },
  {
   "cell_type": "code",
   "execution_count": 382,
   "metadata": {
    "scrolled": true
   },
   "outputs": [
    {
     "data": {
      "image/png": "[encoded data removed]",
      "text/plain": [
       "<Figure size 432x288 with 1 Axes>"
      ]
     },
     "metadata": {
      "needs_background": "light"
     },
     "output_type": "display_data"
    },
    {
     "data": {
      "image/png": "[encoded data removed]",
      "text/plain": [
       "<Figure size 432x288 with 1 Axes>"
      ]
     },
     "metadata": {
      "needs_background": "light"
     },
     "output_type": "display_data"
    }
   ],
   "source": [
    "booking_eda(booking_df['Length Of Stay'])"
   ]
  },
  {
   "cell_type": "code",
   "execution_count": 383,
   "metadata": {},
   "outputs": [
    {
     "data": {
      "text/plain": [
       "<AxesSubplot:xlabel='length_of_stay_grouping', ylabel='count'>"
      ]
     },
     "execution_count": 383,
     "metadata": {},
     "output_type": "execute_result"
    },
    {
     "data": {
      "image/png": "[encoded data removed]",
      "text/plain": [
       "<Figure size 432x288 with 1 Axes>"
      ]
     },
     "metadata": {
      "needs_background": "light"
     },
     "output_type": "display_data"
    }
   ],
   "source": [
    "sns.countplot(booking_df['length_of_stay_grouping'])"
   ]
  },
  {
   "cell_type": "markdown",
   "metadata": {},
   "source": [
    "### 4.3 Bookings"
   ]
  },
  {
   "cell_type": "code",
   "execution_count": 384,
   "metadata": {},
   "outputs": [
    {
     "data": {
      "image/png": "[encoded data removed]",
      "text/plain": [
       "<Figure size 432x288 with 1 Axes>"
      ]
     },
     "metadata": {
      "needs_background": "light"
     },
     "output_type": "display_data"
    },
    {
     "data": {
      "image/png": "[encoded data removed]",
      "text/plain": [
       "<Figure size 432x288 with 1 Axes>"
      ]
     },
     "metadata": {
      "needs_background": "light"
     },
     "output_type": "display_data"
    }
   ],
   "source": [
    "booking_eda(booking_df['BOOKINGS'])"
   ]
  },
  {
   "cell_type": "code",
   "execution_count": 385,
   "metadata": {},
   "outputs": [
    {
     "data": {
      "text/plain": [
       "<AxesSubplot:xlabel='BOOKINGS', ylabel='count'>"
      ]
     },
     "execution_count": 385,
     "metadata": {},
     "output_type": "execute_result"
    },
    {
     "data": {
      "image/png": "[encoded data removed]",
      "text/plain": [
       "<Figure size 432x288 with 1 Axes>"
      ]
     },
     "metadata": {
      "needs_background": "light"
     },
     "output_type": "display_data"
    }
   ],
   "source": [
    "sns.countplot(booking_df['BOOKINGS'])"
   ]
  },
  {
   "cell_type": "markdown",
   "metadata": {},
   "source": [
    "### 4.4 GMV"
   ]
  },
  {
   "cell_type": "code",
   "execution_count": 386,
   "metadata": {},
   "outputs": [
    {
     "data": {
      "image/png": "[encoded data removed]",
      "text/plain": [
       "<Figure size 432x288 with 1 Axes>"
      ]
     },
     "metadata": {
      "needs_background": "light"
     },
     "output_type": "display_data"
    },
    {
     "data": {
      "image/png": "[encoded data removed]",
      "text/plain": [
       "<Figure size 432x288 with 1 Axes>"
      ]
     },
     "metadata": {
      "needs_background": "light"
     },
     "output_type": "display_data"
    }
   ],
   "source": [
    "booking_eda(booking_df['GMV'])"
   ]
  },
  {
   "cell_type": "code",
   "execution_count": 387,
   "metadata": {},
   "outputs": [
    {
     "data": {
      "text/html": [
       "<div>\n",
       "<style scoped>\n",
       "    .dataframe tbody tr th:only-of-type {\n",
       "        vertical-align: middle;\n",
       "    }\n",
       "\n",
       "    .dataframe tbody tr th {\n",
       "        vertical-align: top;\n",
       "    }\n",
       "\n",
       "    .dataframe thead th {\n",
       "        text-align: right;\n",
       "    }\n",
       "</style>\n",
       "<table border=\"1\" class=\"dataframe\">\n",
       "  <thead>\n",
       "    <tr style=\"text-align: right;\">\n",
       "      <th></th>\n",
       "      <th>Days_Arrival</th>\n",
       "      <th>Length Of Stay</th>\n",
       "      <th>BOOKINGS</th>\n",
       "      <th>GMV</th>\n",
       "      <th>Day</th>\n",
       "    </tr>\n",
       "  </thead>\n",
       "  <tbody>\n",
       "    <tr>\n",
       "      <th>Days_Arrival</th>\n",
       "      <td>1.00</td>\n",
       "      <td>0.20</td>\n",
       "      <td>-0.04</td>\n",
       "      <td>0.25</td>\n",
       "      <td>-0.11</td>\n",
       "    </tr>\n",
       "    <tr>\n",
       "      <th>Length Of Stay</th>\n",
       "      <td>0.20</td>\n",
       "      <td>1.00</td>\n",
       "      <td>-0.07</td>\n",
       "      <td>0.61</td>\n",
       "      <td>-0.05</td>\n",
       "    </tr>\n",
       "    <tr>\n",
       "      <th>BOOKINGS</th>\n",
       "      <td>-0.04</td>\n",
       "      <td>-0.07</td>\n",
       "      <td>1.00</td>\n",
       "      <td>0.29</td>\n",
       "      <td>-0.01</td>\n",
       "    </tr>\n",
       "    <tr>\n",
       "      <th>GMV</th>\n",
       "      <td>0.25</td>\n",
       "      <td>0.61</td>\n",
       "      <td>0.29</td>\n",
       "      <td>1.00</td>\n",
       "      <td>-0.15</td>\n",
       "    </tr>\n",
       "    <tr>\n",
       "      <th>Day</th>\n",
       "      <td>-0.11</td>\n",
       "      <td>-0.05</td>\n",
       "      <td>-0.01</td>\n",
       "      <td>-0.15</td>\n",
       "      <td>1.00</td>\n",
       "    </tr>\n",
       "  </tbody>\n",
       "</table>\n",
       "</div>"
      ],
      "text/plain": [
       "                Days_Arrival  Length Of Stay  BOOKINGS   GMV   Day\n",
       "Days_Arrival            1.00            0.20     -0.04  0.25 -0.11\n",
       "Length Of Stay          0.20            1.00     -0.07  0.61 -0.05\n",
       "BOOKINGS               -0.04           -0.07      1.00  0.29 -0.01\n",
       "GMV                     0.25            0.61      0.29  1.00 -0.15\n",
       "Day                    -0.11           -0.05     -0.01 -0.15  1.00"
      ]
     },
     "execution_count": 387,
     "metadata": {},
     "output_type": "execute_result"
    }
   ],
   "source": [
    "booking_df.corr()"
   ]
  },
  {
   "cell_type": "code",
   "execution_count": 388,
   "metadata": {},
   "outputs": [
    {
     "data": {
      "text/plain": [
       "<AxesSubplot:xlabel='Day', ylabel='GMV'>"
      ]
     },
     "execution_count": 388,
     "metadata": {},
     "output_type": "execute_result"
    },
    {
     "data": {
      "image/png": "[encoded data removed]",
      "text/plain": [
       "<Figure size 432x288 with 1 Axes>"
      ]
     },
     "metadata": {
      "needs_background": "light"
     },
     "output_type": "display_data"
    }
   ],
   "source": [
    "sns.scatterplot(data=booking_df, x=\"Day\", y=\"GMV\")"
   ]
  },
  {
   "cell_type": "markdown",
   "metadata": {},
   "source": [
    "### 4.5 Hotel ID"
   ]
  },
  {
   "cell_type": "code",
   "execution_count": 389,
   "metadata": {},
   "outputs": [
    {
     "data": {
      "text/plain": [
       "count   13895.00\n",
       "mean        3.95\n",
       "std         6.86\n",
       "min         1.00\n",
       "25%         1.00\n",
       "50%         2.00\n",
       "75%         4.00\n",
       "max       241.00\n",
       "Name: Count, dtype: float64"
      ]
     },
     "execution_count": 389,
     "metadata": {},
     "output_type": "execute_result"
    },
    {
     "name": "stdout",
     "output_type": "stream",
     "text": [
      "58.0% Of Hotels has been booked more than once\n",
      "22.0% Of Hotels has been booked more than 4 times\n"
     ]
    }
   ],
   "source": [
    "hotel_hist=pd.DataFrame(booking_df['EAN_ID'].value_counts().rename_axis('Hotel').reset_index(name='Count'))\n",
    "hotel_hist['Count'].describe()\n",
    "print(\"{}% Of Hotels has been booked more than once\".format(round(hotel_hist.loc[hotel_hist['Count']>1].shape[0]/hotel_hist.shape[0]*100,0)))\n",
    "print(\"{}% Of Hotels has been booked more than 4 times\".format(round(hotel_hist.loc[hotel_hist['Count']>4].shape[0]/hotel_hist.shape[0]*100,0)))"
   ]
  },
  {
   "cell_type": "code",
   "execution_count": 390,
   "metadata": {},
   "outputs": [],
   "source": [
    "booking_df=booking_df.merge(hotel_hist,left_on='EAN_ID',right_on='Hotel')\n",
    "booking_df.rename(columns={'Count':'hotel_booking_count'},inplace=True)"
   ]
  },
  {
   "cell_type": "code",
   "execution_count": 391,
   "metadata": {},
   "outputs": [],
   "source": [
    "\n",
    "def hotel_booking_rating(data,col):\n",
    "    \"\"\"\n",
    "    This function creates a grouping for the demand of the hotel based on the search count\n",
    "    \"\"\"\n",
    "    data['hotel_booking_rating']=np.select([\n",
    "    data[col].between(1,1,inclusive=True),\n",
    "    data[col].between(2,10,inclusive=True),\n",
    "    data[col].between(10,100,inclusive=True),\n",
    "    data[col]>=101\n",
    "],\n",
    "[\n",
    "    'Low Demand Hotels(1 Booking)',\n",
    "    'Medium Demand Hotels(2-10 Bookings)',\n",
    "    'High Demand Hotels(10-100 Bookings)',\n",
    "    'Extremely High Demand Hotels(>100 Bookings)'\n",
    "])\n",
    "    return data\n",
    "booking_df=hotel_booking_rating(booking_df,'hotel_booking_count')"
   ]
  },
  {
   "cell_type": "code",
   "execution_count": 397,
   "metadata": {},
   "outputs": [
    {
     "data": {
      "text/plain": [
       "Medium Demand Hotels(2-10 Bookings)            26868\n",
       "High Demand Hotels(10-100 Bookings)            21163\n",
       "Low Demand Hotels(1 Booking)                    5865\n",
       "Extremely High Demand Hotels(>100 Bookings)     1016\n",
       "Name: hotel_booking_rating, dtype: int64"
      ]
     },
     "execution_count": 397,
     "metadata": {},
     "output_type": "execute_result"
    }
   ],
   "source": [
    "\n",
    "booking_df['hotel_booking_rating'].value_counts()"
   ]
  },
  {
   "cell_type": "markdown",
   "metadata": {},
   "source": [
    "### Observations\n",
    "* There is a handful of hotels that has been booked more than 4 times.\n",
    "* We need to focus on the hotels that are booked only few times and see if they are searched by the users as well.\n",
    "* If they are we need to focus our ad strategy on these hotels"
   ]
  },
  {
   "cell_type": "markdown",
   "metadata": {},
   "source": [
    "## Key Questions"
   ]
  },
  {
   "cell_type": "markdown",
   "metadata": {},
   "source": [
    "### 1. How many searches and bookings"
   ]
  },
  {
   "cell_type": "code",
   "execution_count": 399,
   "metadata": {},
   "outputs": [
    {
     "name": "stdout",
     "output_type": "stream",
     "text": [
      "No of Searches is 1048575\n",
      "No of Bookings is 54912\n"
     ]
    }
   ],
   "source": [
    "print('No of Searches is {}'.format(spend_df.shape[0]))\n",
    "print('No of Bookings is {}'.format(booking_df.shape[0]))"
   ]
  },
  {
   "cell_type": "markdown",
   "metadata": {},
   "source": [
    "### 2. What are the popular searches"
   ]
  },
  {
   "cell_type": "code",
   "execution_count": 435,
   "metadata": {},
   "outputs": [],
   "source": [
    "def group_by_fun(data,groupby,agg):\n",
    "    c=data.groupby(groupby)[agg].count().rename(\"count\")\n",
    "    return (c/c.sum())*100\n",
    "    "
   ]
  },
  {
   "cell_type": "code",
   "execution_count": 446,
   "metadata": {},
   "outputs": [
    {
     "name": "stdout",
     "output_type": "stream",
     "text": [
      "% Of Users who Searched for Length Of Stay\n",
      "\n"
     ]
    },
    {
     "data": {
      "text/plain": [
       "length_of_stay_grouping\n",
       "1-2 days stay           85.03\n",
       "3-5 days stay           12.54\n",
       "6-8 days stay            2.42\n",
       "More than 8 days stay    0.00\n",
       "Name: count, dtype: float64"
      ]
     },
     "execution_count": 446,
     "metadata": {},
     "output_type": "execute_result"
    },
    {
     "name": "stdout",
     "output_type": "stream",
     "text": [
      "% Of Users who Searched for Check-in dates\n",
      "\n"
     ]
    },
    {
     "data": {
      "text/plain": [
       "booking_priority\n",
       "After a Month check-in        15.21\n",
       "Priority Check-in(0-2 Days)   34.55\n",
       "Within 10 Days check-in       20.19\n",
       "Within a Month check-in       30.05\n",
       "Name: count, dtype: float64"
      ]
     },
     "execution_count": 446,
     "metadata": {},
     "output_type": "execute_result"
    },
    {
     "name": "stdout",
     "output_type": "stream",
     "text": [
      "% Of Users who Searched for hotel subsset\n",
      "\n"
     ]
    },
    {
     "data": {
      "text/plain": [
       "hotel_rating\n",
       "Extremely High Demand(>100 Searches)   13.35\n",
       "High Demand(16-100 Searches)           56.79\n",
       "Low Demand(1-4 Searches)                6.64\n",
       "Medium Demand(5-15 Searches)           23.23\n",
       "Name: count, dtype: float64"
      ]
     },
     "execution_count": 446,
     "metadata": {},
     "output_type": "execute_result"
    }
   ],
   "source": [
    "hotel_rating=group_by_fun(spend_df,'length_of_stay_grouping','HOTEL_ID')\n",
    "print('% Of Users who Searched for Length Of Stay\\n')\n",
    "hotel_rating\n",
    "\n",
    "check_in=group_by_fun(spend_df,'booking_priority','HOTEL_ID')\n",
    "print('% Of Users who Searched for Check-in dates\\n')\n",
    "check_in\n",
    "\n",
    "hotel_rating=group_by_fun(spend_df,'hotel_rating','HOTEL_ID')\n",
    "print('% Of Users who Searched for hotel subsset\\n')\n",
    "hotel_rating"
   ]
  },
  {
   "cell_type": "code",
   "execution_count": 474,
   "metadata": {},
   "outputs": [
    {
     "data": {
      "text/html": [
       "<div>\n",
       "<style scoped>\n",
       "    .dataframe tbody tr th:only-of-type {\n",
       "        vertical-align: middle;\n",
       "    }\n",
       "\n",
       "    .dataframe tbody tr th {\n",
       "        vertical-align: top;\n",
       "    }\n",
       "\n",
       "    .dataframe thead th {\n",
       "        text-align: right;\n",
       "    }\n",
       "</style>\n",
       "<table border=\"1\" class=\"dataframe\">\n",
       "  <thead>\n",
       "    <tr style=\"text-align: right;\">\n",
       "      <th></th>\n",
       "      <th>Days_Arrival</th>\n",
       "      <th>Length Of Stay</th>\n",
       "      <th>ELIGIBLE_IMPS</th>\n",
       "      <th>IMPRESSIONS</th>\n",
       "      <th>CLICKS</th>\n",
       "      <th>SPEND</th>\n",
       "      <th>Lowest_Price_%</th>\n",
       "      <th>Day</th>\n",
       "      <th>Impression_Rate</th>\n",
       "      <th>Click_Rate</th>\n",
       "      <th>hotel_search_count</th>\n",
       "    </tr>\n",
       "  </thead>\n",
       "  <tbody>\n",
       "    <tr>\n",
       "      <th>count</th>\n",
       "      <td>69584.00</td>\n",
       "      <td>69584.00</td>\n",
       "      <td>69584.00</td>\n",
       "      <td>69584.00</td>\n",
       "      <td>69584.00</td>\n",
       "      <td>69584.00</td>\n",
       "      <td>69584.00</td>\n",
       "      <td>69584.00</td>\n",
       "      <td>69584.00</td>\n",
       "      <td>69584.00</td>\n",
       "      <td>69584.00</td>\n",
       "    </tr>\n",
       "    <tr>\n",
       "      <th>mean</th>\n",
       "      <td>14.86</td>\n",
       "      <td>1.30</td>\n",
       "      <td>1.35</td>\n",
       "      <td>0.69</td>\n",
       "      <td>0.01</td>\n",
       "      <td>0.00</td>\n",
       "      <td>0.04</td>\n",
       "      <td>11.44</td>\n",
       "      <td>0.41</td>\n",
       "      <td>0.00</td>\n",
       "      <td>2.50</td>\n",
       "    </tr>\n",
       "    <tr>\n",
       "      <th>std</th>\n",
       "      <td>20.07</td>\n",
       "      <td>0.98</td>\n",
       "      <td>32.96</td>\n",
       "      <td>3.77</td>\n",
       "      <td>0.12</td>\n",
       "      <td>0.06</td>\n",
       "      <td>0.13</td>\n",
       "      <td>8.38</td>\n",
       "      <td>5.87</td>\n",
       "      <td>0.00</td>\n",
       "      <td>1.12</td>\n",
       "    </tr>\n",
       "    <tr>\n",
       "      <th>min</th>\n",
       "      <td>0.00</td>\n",
       "      <td>1.00</td>\n",
       "      <td>0.00</td>\n",
       "      <td>0.00</td>\n",
       "      <td>0.00</td>\n",
       "      <td>0.00</td>\n",
       "      <td>-6.85</td>\n",
       "      <td>1.00</td>\n",
       "      <td>0.00</td>\n",
       "      <td>0.00</td>\n",
       "      <td>1.00</td>\n",
       "    </tr>\n",
       "    <tr>\n",
       "      <th>25%</th>\n",
       "      <td>1.00</td>\n",
       "      <td>1.00</td>\n",
       "      <td>0.00</td>\n",
       "      <td>0.00</td>\n",
       "      <td>0.00</td>\n",
       "      <td>0.00</td>\n",
       "      <td>0.00</td>\n",
       "      <td>5.00</td>\n",
       "      <td>0.00</td>\n",
       "      <td>0.00</td>\n",
       "      <td>2.00</td>\n",
       "    </tr>\n",
       "    <tr>\n",
       "      <th>50%</th>\n",
       "      <td>6.00</td>\n",
       "      <td>1.00</td>\n",
       "      <td>0.00</td>\n",
       "      <td>0.00</td>\n",
       "      <td>0.00</td>\n",
       "      <td>0.00</td>\n",
       "      <td>0.00</td>\n",
       "      <td>9.00</td>\n",
       "      <td>0.00</td>\n",
       "      <td>0.00</td>\n",
       "      <td>2.00</td>\n",
       "    </tr>\n",
       "    <tr>\n",
       "      <th>75%</th>\n",
       "      <td>25.00</td>\n",
       "      <td>1.00</td>\n",
       "      <td>1.00</td>\n",
       "      <td>1.00</td>\n",
       "      <td>0.00</td>\n",
       "      <td>0.00</td>\n",
       "      <td>0.06</td>\n",
       "      <td>16.00</td>\n",
       "      <td>0.00</td>\n",
       "      <td>0.00</td>\n",
       "      <td>3.25</td>\n",
       "    </tr>\n",
       "    <tr>\n",
       "      <th>max</th>\n",
       "      <td>122.00</td>\n",
       "      <td>7.00</td>\n",
       "      <td>8559.00</td>\n",
       "      <td>855.00</td>\n",
       "      <td>9.00</td>\n",
       "      <td>8.53</td>\n",
       "      <td>1.00</td>\n",
       "      <td>30.00</td>\n",
       "      <td>200.00</td>\n",
       "      <td>0.00</td>\n",
       "      <td>4.00</td>\n",
       "    </tr>\n",
       "  </tbody>\n",
       "</table>\n",
       "</div>"
      ],
      "text/plain": [
       "       Days_Arrival  Length Of Stay  ELIGIBLE_IMPS  IMPRESSIONS   CLICKS  \\\n",
       "count      69584.00        69584.00       69584.00     69584.00 69584.00   \n",
       "mean          14.86            1.30           1.35         0.69     0.01   \n",
       "std           20.07            0.98          32.96         3.77     0.12   \n",
       "min            0.00            1.00           0.00         0.00     0.00   \n",
       "25%            1.00            1.00           0.00         0.00     0.00   \n",
       "50%            6.00            1.00           0.00         0.00     0.00   \n",
       "75%           25.00            1.00           1.00         1.00     0.00   \n",
       "max          122.00            7.00        8559.00       855.00     9.00   \n",
       "\n",
       "         SPEND  Lowest_Price_%      Day  Impression_Rate  Click_Rate  \\\n",
       "count 69584.00        69584.00 69584.00         69584.00    69584.00   \n",
       "mean      0.00            0.04    11.44             0.41        0.00   \n",
       "std       0.06            0.13     8.38             5.87        0.00   \n",
       "min       0.00           -6.85     1.00             0.00        0.00   \n",
       "25%       0.00            0.00     5.00             0.00        0.00   \n",
       "50%       0.00            0.00     9.00             0.00        0.00   \n",
       "75%       0.00            0.06    16.00             0.00        0.00   \n",
       "max       8.53            1.00    30.00           200.00        0.00   \n",
       "\n",
       "       hotel_search_count  \n",
       "count            69584.00  \n",
       "mean                 2.50  \n",
       "std                  1.12  \n",
       "min                  1.00  \n",
       "25%                  2.00  \n",
       "50%                  2.00  \n",
       "75%                  3.25  \n",
       "max                  4.00  "
      ]
     },
     "execution_count": 474,
     "metadata": {},
     "output_type": "execute_result"
    }
   ],
   "source": [
    "spend_df.loc[spend_df['hotel_rating']=='Low Demand(1-4 Searches)'].describe()"
   ]
  },
  {
   "cell_type": "markdown",
   "metadata": {},
   "source": [
    "## 3 . When do users search"
   ]
  },
  {
   "cell_type": "code",
   "execution_count": 447,
   "metadata": {
    "scrolled": true
   },
   "outputs": [
    {
     "data": {
      "text/plain": [
       "[<matplotlib.lines.Line2D at 0x7fdd694d7430>]"
      ]
     },
     "execution_count": 447,
     "metadata": {},
     "output_type": "execute_result"
    },
    {
     "data": {
      "text/plain": [
       "[<matplotlib.lines.Line2D at 0x7fdd694e6130>]"
      ]
     },
     "execution_count": 447,
     "metadata": {},
     "output_type": "execute_result"
    },
    {
     "data": {
      "image/png": "[encoded data removed]",
      "text/plain": [
       "<Figure size 576x432 with 1 Axes>"
      ]
     },
     "metadata": {
      "needs_background": "dark"
     },
     "output_type": "display_data"
    }
   ],
   "source": [
    "search_trend=pd.DataFrame(spend_df.groupby(\"Day\", as_index=False)['HOTEL_ID'].count())\n",
    "booking_trend=pd.DataFrame(booking_df.groupby(\"Day\", as_index=False)['EAN_ID'].count())\n",
    "fig = plt.figure(figsize=(8,6))\n",
    "ax = fig.add_subplot(111)\n",
    "\n",
    "\n",
    "ax.plot(search_trend['Day'],search_trend['HOTEL_ID'],label='Search',marker='.',color='#DCDCDC')\n",
    "ax.plot(search_trend['Day'].loc[search_trend['Day']<=15],search_trend['HOTEL_ID'].loc[search_trend['Day']<=15],label='Search',marker='.',color='#dba961')\n",
    "\n",
    "\n",
    "\n",
    "\n",
    "\n",
    "ax.spines['bottom'].set_color('#DCDCDC')\n",
    "ax.spines['top'].set_color('none') \n",
    "ax.spines['left'].set_color('#DCDCDC')\n",
    "ax.spines['right'].set_color('none')\n",
    "ax.xaxis.label.set_color('#DCDCDC')\n",
    "ax.tick_params(axis='x', colors='#808080')\n",
    "ax.tick_params(axis='y', colors='#808080')\n",
    "plt.savefig('week_trend.png', bbox_inches='tight',transparent=True,pad_inches=0)"
   ]
  },
  {
   "cell_type": "code",
   "execution_count": null,
   "metadata": {},
   "outputs": [],
   "source": [
    "search_trend=pd.DataFrame(spend_df.groupby(\"Day_Week\", as_index=False)['HOTEL_ID'].count())\n",
    "booking_trend=pd.DataFrame(booking_df.groupby(\"Day_Week\", as_index=False)['EAN_ID'].count())"
   ]
  },
  {
   "cell_type": "code",
   "execution_count": 449,
   "metadata": {
    "scrolled": true
   },
   "outputs": [
    {
     "data": {
      "text/plain": [
       "[<matplotlib.lines.Line2D at 0x7fdd5feec670>]"
      ]
     },
     "execution_count": 449,
     "metadata": {},
     "output_type": "execute_result"
    },
    {
     "data": {
      "text/plain": [
       "[<matplotlib.lines.Line2D at 0x7fdd5feec1f0>]"
      ]
     },
     "execution_count": 449,
     "metadata": {},
     "output_type": "execute_result"
    },
    {
     "data": {
      "text/plain": [
       "[<matplotlib.lines.Line2D at 0x7fdd5feecee0>]"
      ]
     },
     "execution_count": 449,
     "metadata": {},
     "output_type": "execute_result"
    },
    {
     "data": {
      "image/png": "[encoded data removed]",
      "text/plain": [
       "<Figure size 576x432 with 1 Axes>"
      ]
     },
     "metadata": {
      "needs_background": "dark"
     },
     "output_type": "display_data"
    }
   ],
   "source": [
    "search_trend=pd.DataFrame(spend_df.groupby(\"Day_Week\", as_index=False)['HOTEL_ID'].count())\n",
    "booking_trend=pd.DataFrame(booking_df.groupby(\"Day_Week\", as_index=False)['EAN_ID'].count())\n",
    "fig = plt.figure(figsize=(8,6))\n",
    "ax = fig.add_subplot(111)\n",
    "\n",
    "\n",
    "ax.plot(search_trend['Day_Week'],search_trend['HOTEL_ID'],label='Search',marker='.',color='#DCDCDC')\n",
    "ax.plot(search_trend['Day_Week'].loc[(search_trend['Day_Week']=='Sun') | (search_trend['Day_Week']=='Mon')] ,search_trend['HOTEL_ID'].loc[(search_trend['Day_Week']=='Sun') | (search_trend['Day_Week']=='Mon')],label='Search',marker='.',color='#dba961')\n",
    "ax.plot(search_trend['Day_Week'].loc[(search_trend['Day_Week']=='Fri') | (search_trend['Day_Week']=='Sat')] ,search_trend['HOTEL_ID'].loc[(search_trend['Day_Week']=='Fri') | (search_trend['Day_Week']=='Sat')],label='Search',marker='.',color='#dba961')\n",
    "\n",
    "\n",
    "\n",
    "\n",
    "ax.spines['bottom'].set_color('#DCDCDC')\n",
    "ax.spines['top'].set_color('none') \n",
    "ax.spines['left'].set_color('#DCDCDC')\n",
    "ax.spines['right'].set_color('none')\n",
    "ax.xaxis.label.set_color('#DCDCDC')\n",
    "ax.tick_params(axis='x', colors='#808080')\n",
    "ax.tick_params(axis='y', colors='#808080')\n",
    "plt.savefig('day_trend.png', bbox_inches='tight',transparent=True,pad_inches=0)"
   ]
  },
  {
   "cell_type": "markdown",
   "metadata": {},
   "source": [
    "### 4. % Of Searches for which no rate and lower price"
   ]
  },
  {
   "cell_type": "code",
   "execution_count": 499,
   "metadata": {},
   "outputs": [
    {
     "data": {
      "text/plain": [
       "count   1048575.00\n",
       "mean          2.52\n",
       "std          17.76\n",
       "min           0.00\n",
       "25%           0.00\n",
       "50%           0.00\n",
       "75%           1.00\n",
       "max        8559.00\n",
       "Name: ELIGIBLE_IMPS, dtype: float64"
      ]
     },
     "execution_count": 499,
     "metadata": {},
     "output_type": "execute_result"
    },
    {
     "data": {
      "text/plain": [
       "count   1048575.00\n",
       "mean          0.02\n",
       "std           0.16\n",
       "min         -71.02\n",
       "25%           0.00\n",
       "50%           0.00\n",
       "75%           0.02\n",
       "max           1.00\n",
       "Name: Lowest_Price_%, dtype: float64"
      ]
     },
     "execution_count": 499,
     "metadata": {},
     "output_type": "execute_result"
    },
    {
     "data": {
      "text/plain": [
       "300511"
      ]
     },
     "execution_count": 499,
     "metadata": {},
     "output_type": "execute_result"
    },
    {
     "data": {
      "text/plain": [
       "0.28658989581098154"
      ]
     },
     "execution_count": 499,
     "metadata": {},
     "output_type": "execute_result"
    }
   ],
   "source": [
    "spend_df['ELIGIBLE_IMPS'].describe()\n",
    "spend_df['Lowest_Price_%']=spend_df['Lowest_Price_%'].round(2)\n",
    "spend_df['Lowest_Price_%'].describe()\n",
    "snapcommerce_adv=spend_df.loc[(spend_df.ELIGIBLE_IMPS>0) & (spend_df['Lowest_Price_%']>=0)]\n",
    "spend_df['Eligible Rate'] ='Eligible Rate N/A'\n",
    "spend_df.loc[(spend_df.ELIGIBLE_IMPS>0) & (spend_df['Lowest_Price_%']>=0),'Eligible Rate'] ='Eligible Rate Available'\n",
    "snapcommerce_adv.shape[0]\n",
    "snapcommerce_adv.shape[0]/spend_df.shape[0]"
   ]
  },
  {
   "cell_type": "markdown",
   "metadata": {},
   "source": [
    "### 5.Calculating High Demand Searches"
   ]
  },
  {
   "cell_type": "code",
   "execution_count": 500,
   "metadata": {},
   "outputs": [
    {
     "data": {
      "text/plain": [
       "289901"
      ]
     },
     "execution_count": 500,
     "metadata": {},
     "output_type": "execute_result"
    },
    {
     "data": {
      "text/plain": [
       "0.2764714016641633"
      ]
     },
     "execution_count": 500,
     "metadata": {},
     "output_type": "execute_result"
    }
   ],
   "source": [
    "highest_searches=spend_df.loc[((spend_df['hotel_rating']==\"High Demand(16-100 Searches)\") | (spend_df['hotel_rating']==\"Medium Demand(5-15 Searches)\")) & ((spend_df['length_of_stay_grouping']== '1-2 days stay') & (spend_df.booking_priority=='Priority Check-in(0-2 Days)'))]\n",
    "spend_df['Search Rating']='Unpopular Search'\n",
    "spend_df.loc[((spend_df['hotel_rating']==\"High Demand(16-100 Searches)\") | (spend_df['hotel_rating']==\"Medium Demand(5-15 Searches)\")) & ((spend_df['length_of_stay_grouping']== '1-2 days stay') & (spend_df.booking_priority=='Priority Check-in(0-2 Days)')),'Search Rating']=\"Popular Search\"\n",
    "\n",
    "highest_searches.shape[0]\n",
    "highest_searches.shape[0]/spend_df.shape[0]"
   ]
  },
  {
   "cell_type": "code",
   "execution_count": 501,
   "metadata": {},
   "outputs": [
    {
     "data": {
      "text/plain": [
       "Rating\n",
       "Popular Search Eligible Rate N/A           17.59\n",
       "Popular Search Rate Available              10.05\n",
       "Unpopular Search Eligible Rate Available   18.61\n",
       "Unpopular Search Eligible Rate N/A         53.75\n",
       "Name: count, dtype: float64"
      ]
     },
     "execution_count": 501,
     "metadata": {},
     "output_type": "execute_result"
    }
   ],
   "source": [
    "spend_df['Rating'] =\"Unpopular Search Eligible Rate N/A\"\n",
    "spend_df.loc[((spend_df['Search Rating']==\"Popular Search\") & (spend_df['Eligible Rate']==\"Eligible Rate Available\")) ,'Rating']=\"Popular Search Rate Available\"\n",
    "spend_df.loc[((spend_df['Search Rating']==\"Popular Search\") & (spend_df['Eligible Rate']==\"Eligible Rate N/A\")) ,'Rating']=\"Popular Search Eligible Rate N/A\"\n",
    "spend_df.loc[((spend_df['Search Rating']==\"Unpopular Search\") & (spend_df['Eligible Rate']==\"Eligible Rate Available\")) ,'Rating']=\"Unpopular Search Eligible Rate Available\"\n",
    "\n",
    "rating=group_by_fun(spend_df,'Rating','HOTEL_ID')\n",
    "rating"
   ]
  },
  {
   "cell_type": "code",
   "execution_count": 469,
   "metadata": {},
   "outputs": [
    {
     "data": {
      "text/plain": [
       "<bound method Artist.set of <AxesSubplot:xlabel='SPEND', ylabel='CLICKS'>>"
      ]
     },
     "execution_count": 469,
     "metadata": {},
     "output_type": "execute_result"
    },
    {
     "data": {
      "image/png": "[encoded data removed]",
      "text/plain": [
       "<Figure size 432x288 with 1 Axes>"
      ]
     },
     "metadata": {
      "needs_background": "dark"
     },
     "output_type": "display_data"
    }
   ],
   "source": [
    "color_dict = dict({'Unpopular Search Eligible Rate N/A':'#576687',\n",
    "                  'Popular Search Eligible Rate N/A':'#273755',\n",
    "                  'Unpopular Search Eligible Rate Available': '#9bb7d8',\n",
    "                  'Popular Search Rate Available' :'#dba961'})\n",
    "\n",
    "fig = plt.figure()\n",
    "\n",
    "ax=sns.scatterplot(data=spend_df, x=\"SPEND\", y=\"CLICKS\", hue=\"Rating\", palette=color_dict,legend=False,alpha=0.66)\n",
    "ax.set\n",
    "ax.spines['bottom'].set_color('#DCDCDC')\n",
    "\n",
    "ax.spines['top'].set_color('none') \n",
    "\n",
    "ax.spines['left'].set_color('#DCDCDC')\n",
    "\n",
    "ax.spines['right'].set_color('None')\n",
    "\n",
    "ax.xaxis.label.set_color('#808080')\n",
    "ax.yaxis.label.set_color('#808080')\n",
    "\n",
    "ax.tick_params(axis='x', colors='#DCDCDC')\n",
    "ax.tick_params(axis='y', colors='#DCDCDC')\n",
    "\n",
    "\n",
    "plt.savefig('scatterplot', bbox_inches='tight',transparent=True,pad_inches=0)"
   ]
  },
  {
   "cell_type": "markdown",
   "metadata": {},
   "source": [
    "## Booking Trends within Itineraries"
   ]
  },
  {
   "cell_type": "code",
   "execution_count": 487,
   "metadata": {},
   "outputs": [],
   "source": [
    "spend_df_length_of_stay=spend_df.groupby(['Day_Week','length_of_stay_grouping'])['HOTEL_ID'].count()\n",
    "booking_df_scatter=booking_df.groupby(\"booking_priority\").agg(Avg_GMV=pd.NamedAgg(column='GMV', aggfunc=np.mean),\n",
    "                                                              Booking_sum=pd.NamedAgg(column='BOOKINGS',aggfunc=np.sum)).reset_index().sort_values(by='Booking_sum')"
   ]
  },
  {
   "cell_type": "code",
   "execution_count": 488,
   "metadata": {},
   "outputs": [
    {
     "data": {
      "text/plain": [
       "<BarContainer object of 4 artists>"
      ]
     },
     "execution_count": 488,
     "metadata": {},
     "output_type": "execute_result"
    },
    {
     "data": {
      "image/png": "[encoded data removed]",
      "text/plain": [
       "<Figure size 432x288 with 1 Axes>"
      ]
     },
     "metadata": {
      "needs_background": "light"
     },
     "output_type": "display_data"
    }
   ],
   "source": [
    "fig = plt.figure()\n",
    "ax = fig.add_subplot(111)\n",
    "ax.bar(booking_df_scatter['booking_priority'], booking_df_scatter['Booking_sum'])\n"
   ]
  },
  {
   "cell_type": "code",
   "execution_count": 489,
   "metadata": {},
   "outputs": [
    {
     "data": {
      "text/plain": [
       "booking_priority             Avg_GMV  Booking_sum\n",
       "Within a Month check-in      172.97   1753           1\n",
       "Within 10 Days check-in      146.30   3839           1\n",
       "Priority Check-in(0-2 Days)  100.06   54443          1\n",
       "After a Month check-in       229.25   1335           1\n",
       "dtype: int64"
      ]
     },
     "execution_count": 489,
     "metadata": {},
     "output_type": "execute_result"
    }
   ],
   "source": [
    "booking_df_scatter.value_counts()"
   ]
  }
 ],
 "metadata": {
  "kernelspec": {
   "display_name": "Python 3",
   "language": "python",
   "name": "python3"
  },
  "language_info": {
   "codemirror_mode": {
    "name": "ipython",
    "version": 3
   },
   "file_extension": ".py",
   "mimetype": "text/x-python",
   "name": "python",
   "nbconvert_exporter": "python",
   "pygments_lexer": "ipython3",
   "version": "3.8.5"
  }
 },
 "nbformat": 4,
 "nbformat_minor": 4
}
